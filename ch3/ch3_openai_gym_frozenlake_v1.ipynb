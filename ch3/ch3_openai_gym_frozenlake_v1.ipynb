{
  "nbformat": 4,
  "nbformat_minor": 0,
  "metadata": {
    "colab": {
      "provenance": []
    },
    "kernelspec": {
      "name": "python3",
      "display_name": "Python 3"
    },
    "language_info": {
      "name": "python"
    }
  },
  "cells": [
    {
      "cell_type": "code",
      "execution_count": 17,
      "metadata": {
        "colab": {
          "base_uri": "https://localhost:8080/"
        },
        "id": "oF5F4E4ntgET",
        "outputId": "f6c7b00f-d786-4ce2-acc5-9815b9a33bf2"
      },
      "outputs": [
        {
          "output_type": "stream",
          "name": "stdout",
          "text": [
            "Requirement already satisfied: gym in /usr/local/lib/python3.10/dist-packages (0.25.2)\n",
            "Requirement already satisfied: numpy>=1.18.0 in /usr/local/lib/python3.10/dist-packages (from gym) (1.23.5)\n",
            "Requirement already satisfied: cloudpickle>=1.2.0 in /usr/local/lib/python3.10/dist-packages (from gym) (2.2.1)\n",
            "Requirement already satisfied: gym-notices>=0.0.4 in /usr/local/lib/python3.10/dist-packages (from gym) (0.0.8)\n"
          ]
        }
      ],
      "source": [
        "!pip install gym"
      ]
    },
    {
      "cell_type": "code",
      "source": [
        "print(gym.__version__)"
      ],
      "metadata": {
        "colab": {
          "base_uri": "https://localhost:8080/"
        },
        "id": "OYsPO8xJvkCN",
        "outputId": "46bf26db-fc2c-45ce-e425-4e081547330f"
      },
      "execution_count": 18,
      "outputs": [
        {
          "output_type": "stream",
          "name": "stdout",
          "text": [
            "0.25.2\n"
          ]
        },
        {
          "output_type": "stream",
          "name": "stderr",
          "text": [
            "/usr/local/lib/python3.10/dist-packages/ipykernel/ipkernel.py:283: DeprecationWarning: `should_run_async` will not call `transform_cell` automatically in the future. Please pass the result to `transformed_cell` argument and any exception that happen during thetransform in `preprocessing_exc_tuple` in IPython 7.17 and above.\n",
            "  and should_run_async(code)\n"
          ]
        }
      ]
    },
    {
      "cell_type": "code",
      "source": [
        "import gym\n",
        "# env = gym.make('FrozenLake-v1', render_mode='ansi')\n",
        "env = gym.make('FrozenLake-v1', render_mode='rgb_array')\n",
        "env.reset()\n",
        "env.render()"
      ],
      "metadata": {
        "colab": {
          "base_uri": "https://localhost:8080/"
        },
        "id": "1NorVPJBuPKA",
        "outputId": "322f94f9-788e-410f-c452-084ffabecc49"
      },
      "execution_count": 32,
      "outputs": [
        {
          "output_type": "execute_result",
          "data": {
            "text/plain": [
              "[array([[[180, 200, 230],\n",
              "         [180, 200, 230],\n",
              "         [180, 200, 230],\n",
              "         ...,\n",
              "         [180, 200, 230],\n",
              "         [180, 200, 230],\n",
              "         [180, 200, 230]],\n",
              " \n",
              "        [[180, 200, 230],\n",
              "         [204, 230, 255],\n",
              "         [204, 230, 255],\n",
              "         ...,\n",
              "         [204, 230, 255],\n",
              "         [204, 230, 255],\n",
              "         [180, 200, 230]],\n",
              " \n",
              "        [[180, 200, 230],\n",
              "         [235, 245, 249],\n",
              "         [204, 230, 255],\n",
              "         ...,\n",
              "         [204, 230, 255],\n",
              "         [204, 230, 255],\n",
              "         [180, 200, 230]],\n",
              " \n",
              "        ...,\n",
              " \n",
              "        [[180, 200, 230],\n",
              "         [235, 245, 249],\n",
              "         [235, 245, 249],\n",
              "         ...,\n",
              "         [204, 230, 255],\n",
              "         [235, 245, 249],\n",
              "         [180, 200, 230]],\n",
              " \n",
              "        [[180, 200, 230],\n",
              "         [235, 245, 249],\n",
              "         [235, 245, 249],\n",
              "         ...,\n",
              "         [204, 230, 255],\n",
              "         [204, 230, 255],\n",
              "         [180, 200, 230]],\n",
              " \n",
              "        [[180, 200, 230],\n",
              "         [180, 200, 230],\n",
              "         [180, 200, 230],\n",
              "         ...,\n",
              "         [180, 200, 230],\n",
              "         [180, 200, 230],\n",
              "         [180, 200, 230]]], dtype=uint8)]"
            ]
          },
          "metadata": {},
          "execution_count": 32
        }
      ]
    },
    {
      "cell_type": "code",
      "source": [
        "env.close()"
      ],
      "metadata": {
        "id": "RIYm0OSau6Hq"
      },
      "execution_count": 33,
      "outputs": []
    },
    {
      "cell_type": "code",
      "source": [
        "import gym\n",
        "env = gym.make('FrozenLake-v1', render_mode='ansi')\n",
        "# env = gym.make('FrozenLake-v1', render_mode='rgb_array')\n",
        "env.reset()\n",
        "env.render()"
      ],
      "metadata": {
        "colab": {
          "base_uri": "https://localhost:8080/"
        },
        "id": "EKFc-wCLwKMj",
        "outputId": "e8b07e04-1422-485a-988b-19776f00009b"
      },
      "execution_count": 51,
      "outputs": [
        {
          "output_type": "execute_result",
          "data": {
            "text/plain": [
              "['\\n\\x1b[41mS\\x1b[0mFFF\\nFHFH\\nFFFH\\nHFFG\\n']"
            ]
          },
          "metadata": {},
          "execution_count": 51
        }
      ]
    },
    {
      "cell_type": "code",
      "source": [
        "import gym\n",
        "env = gym.make('FrozenLake-v1', render_mode='ansi')\n",
        "env.reset()\n",
        "print(env.render())"
      ],
      "metadata": {
        "colab": {
          "base_uri": "https://localhost:8080/"
        },
        "id": "ToqbIjt20HA5",
        "outputId": "b8dbcb47-e218-46f8-b93b-caebf4255caa"
      },
      "execution_count": 58,
      "outputs": [
        {
          "output_type": "stream",
          "name": "stdout",
          "text": [
            "['\\n\\x1b[41mS\\x1b[0mFFF\\nFHFH\\nFFFH\\nHFFG\\n']\n"
          ]
        }
      ]
    },
    {
      "cell_type": "code",
      "source": [
        "# S를 출발하여 H에 빠지지 않고 F를 통과해서 G에 도달하는 것이 목적임.\n",
        "# S : 현재의 State\n",
        "# H : Hole\n",
        "# F : 호수가 얼은 부분\n",
        "# G : 최종 목적지\n",
        "\n",
        "# SFFF\n",
        "# FHFH\n",
        "# FFFH\n",
        "# HFFG"
      ],
      "metadata": {
        "id": "1vvq-9NKwhso"
      },
      "execution_count": 38,
      "outputs": []
    },
    {
      "cell_type": "code",
      "source": [
        "env.close()"
      ],
      "metadata": {
        "id": "UzcHEQidwKPD"
      },
      "execution_count": 35,
      "outputs": []
    },
    {
      "cell_type": "code",
      "source": [
        "# Discrete(16) : 16개의 유한한 state (0 ~ 15)\n",
        "print(env.observation_space)"
      ],
      "metadata": {
        "colab": {
          "base_uri": "https://localhost:8080/"
        },
        "id": "yZIky7H1wKRe",
        "outputId": "5890dc31-1600-432f-bfae-e031cdaf5241"
      },
      "execution_count": 36,
      "outputs": [
        {
          "output_type": "stream",
          "name": "stdout",
          "text": [
            "Discrete(16)\n"
          ]
        },
        {
          "output_type": "stream",
          "name": "stderr",
          "text": [
            "/usr/local/lib/python3.10/dist-packages/ipykernel/ipkernel.py:283: DeprecationWarning: `should_run_async` will not call `transform_cell` automatically in the future. Please pass the result to `transformed_cell` argument and any exception that happen during thetransform in `preprocessing_exc_tuple` in IPython 7.17 and above.\n",
            "  and should_run_async(code)\n"
          ]
        }
      ]
    },
    {
      "cell_type": "code",
      "source": [
        "# Discrete(4) : 유한한 4개(0 ~ 3)의 Action\n",
        "# FrozenLake의 Action : 4개로 구성\n",
        "# Left : 0, Down : 1, Right : 2, Up : 3\n",
        "\n",
        "print(env.action_space)"
      ],
      "metadata": {
        "colab": {
          "base_uri": "https://localhost:8080/"
        },
        "id": "zJzMO7t1wKT5",
        "outputId": "403e634d-5df3-48fe-8f9d-87fdec0b04e0"
      },
      "execution_count": 37,
      "outputs": [
        {
          "output_type": "stream",
          "name": "stdout",
          "text": [
            "Discrete(4)\n"
          ]
        },
        {
          "output_type": "stream",
          "name": "stderr",
          "text": [
            "/usr/local/lib/python3.10/dist-packages/ipykernel/ipkernel.py:283: DeprecationWarning: `should_run_async` will not call `transform_cell` automatically in the future. Please pass the result to `transformed_cell` argument and any exception that happen during thetransform in `preprocessing_exc_tuple` in IPython 7.17 and above.\n",
            "  and should_run_async(code)\n"
          ]
        }
      ]
    },
    {
      "cell_type": "code",
      "source": [
        "print(env.observation_space.n)\n",
        "print(env.action_space.n)"
      ],
      "metadata": {
        "colab": {
          "base_uri": "https://localhost:8080/"
        },
        "id": "h-y5JdncwKWG",
        "outputId": "39909d3c-e782-49af-d6d9-32d00f029ba9"
      },
      "execution_count": 39,
      "outputs": [
        {
          "output_type": "stream",
          "name": "stdout",
          "text": [
            "16\n",
            "4\n"
          ]
        },
        {
          "output_type": "stream",
          "name": "stderr",
          "text": [
            "/usr/local/lib/python3.10/dist-packages/ipykernel/ipkernel.py:283: DeprecationWarning: `should_run_async` will not call `transform_cell` automatically in the future. Please pass the result to `transformed_cell` argument and any exception that happen during thetransform in `preprocessing_exc_tuple` in IPython 7.17 and above.\n",
            "  and should_run_async(code)\n"
          ]
        }
      ]
    },
    {
      "cell_type": "code",
      "source": [
        "# P[state][action] = ㅠ(action | state)\n",
        "# [p(s'|s, a), s', r, terminal 여부]\n",
        "\n",
        "# p(s'|s, a) : 현재 State s에서 Action a를 선택하여 s'으로 이동할 확률\n",
        "# 다음 state s'\n",
        "# reward\n",
        "# s'이 Terminal State인지의 해당 여부\n",
        "\n",
        "print(env.P[0][0])\n",
        "print(env.P[15][1])\n",
        "print(env.P[5][0])"
      ],
      "metadata": {
        "colab": {
          "base_uri": "https://localhost:8080/"
        },
        "id": "c-AIcu75wKX-",
        "outputId": "5cfe4342-dcc0-48a4-df17-a611d08c1165"
      },
      "execution_count": 41,
      "outputs": [
        {
          "output_type": "stream",
          "name": "stdout",
          "text": [
            "[(0.3333333333333333, 0, 0.0, False), (0.3333333333333333, 0, 0.0, False), (0.3333333333333333, 4, 0.0, False)]\n",
            "[(1.0, 15, 0, True)]\n",
            "[(1.0, 5, 0, True)]\n"
          ]
        },
        {
          "output_type": "stream",
          "name": "stderr",
          "text": [
            "/usr/local/lib/python3.10/dist-packages/ipykernel/ipkernel.py:283: DeprecationWarning: `should_run_async` will not call `transform_cell` automatically in the future. Please pass the result to `transformed_cell` argument and any exception that happen during thetransform in `preprocessing_exc_tuple` in IPython 7.17 and above.\n",
            "  and should_run_async(code)\n"
          ]
        }
      ]
    },
    {
      "cell_type": "code",
      "source": [
        "# State 0에서 Action 0 (Left)를 취하면 0.66의 확률로 State 0에 계속 머물고, 0.33의 확률로 State 4로 이동함.\n",
        "print(env.P[0][0])"
      ],
      "metadata": {
        "colab": {
          "base_uri": "https://localhost:8080/"
        },
        "id": "fYn7eR_JwKZ7",
        "outputId": "488c1262-1973-4c94-974e-2999ffb2cf6f"
      },
      "execution_count": 42,
      "outputs": [
        {
          "output_type": "stream",
          "name": "stdout",
          "text": [
            "[(0.3333333333333333, 0, 0.0, False), (0.3333333333333333, 0, 0.0, False), (0.3333333333333333, 4, 0.0, False)]\n"
          ]
        }
      ]
    },
    {
      "cell_type": "code",
      "source": [
        "# State 15가 G이므로 어떤 Action은 취해도 최종 목적지에 계속 머물고 있으며, G가 Terminal State임을 의미함.\n",
        "print(env.P[15][1])"
      ],
      "metadata": {
        "colab": {
          "base_uri": "https://localhost:8080/"
        },
        "id": "coenS30ExNt5",
        "outputId": "6987a526-19bd-49f7-acc1-2cf661198338"
      },
      "execution_count": 43,
      "outputs": [
        {
          "output_type": "stream",
          "name": "stdout",
          "text": [
            "[(1.0, 15, 0, True)]\n"
          ]
        }
      ]
    },
    {
      "cell_type": "code",
      "source": [
        "# State 5가 Hole이므로 Terminal State이며 State 5에 계속 머물고 있음을 의미함.\n",
        "print(env.P[5][0])"
      ],
      "metadata": {
        "colab": {
          "base_uri": "https://localhost:8080/"
        },
        "id": "wvmX0vlIxNwF",
        "outputId": "a33d3720-0a65-49d9-f1fb-2649cabed497"
      },
      "execution_count": 44,
      "outputs": [
        {
          "output_type": "stream",
          "name": "stdout",
          "text": [
            "[(1.0, 5, 0, True)]\n"
          ]
        }
      ]
    },
    {
      "cell_type": "code",
      "source": [
        "state = env.reset()\n",
        "env.render()\n",
        "\n",
        "# [S]FFF\n",
        "# FHFH\n",
        "# FFFH\n",
        "# HFFG"
      ],
      "metadata": {
        "colab": {
          "base_uri": "https://localhost:8080/"
        },
        "id": "rQ3GsxtEwKcW",
        "outputId": "6cce3a3a-269a-4e94-9a0e-0281190de8c1"
      },
      "execution_count": 46,
      "outputs": [
        {
          "output_type": "execute_result",
          "data": {
            "text/plain": [
              "['\\n\\x1b[41mS\\x1b[0mFFF\\nFHFH\\nFFFH\\nHFFG\\n']"
            ]
          },
          "metadata": {},
          "execution_count": 46
        }
      ]
    },
    {
      "cell_type": "code",
      "source": [
        "# Action 1 : Down을 취했을 때의 결과\n",
        "# (next_state, reward, Terminal 여부, Information)\n",
        "print(env.step(1))"
      ],
      "metadata": {
        "colab": {
          "base_uri": "https://localhost:8080/"
        },
        "id": "gL5wXC5jwKe3",
        "outputId": "eb759a56-d252-4444-c1c0-39536ab4b417"
      },
      "execution_count": 47,
      "outputs": [
        {
          "output_type": "stream",
          "name": "stdout",
          "text": [
            "(0, 0.0, False, {'prob': 0.3333333333333333})\n"
          ]
        }
      ]
    },
    {
      "cell_type": "code",
      "source": [
        "env.render()\n",
        "\n",
        "# SFFF\n",
        "# [F]HFH\n",
        "# FFFH\n",
        "# HFFG"
      ],
      "metadata": {
        "colab": {
          "base_uri": "https://localhost:8080/"
        },
        "id": "7QnSvWqbu6KP",
        "outputId": "7b06e158-7258-4121-a883-7d69a0820ca4"
      },
      "execution_count": 48,
      "outputs": [
        {
          "output_type": "execute_result",
          "data": {
            "text/plain": [
              "['  (Down)\\n\\x1b[41mS\\x1b[0mFFF\\nFHFH\\nFFFH\\nHFFG\\n']"
            ]
          },
          "metadata": {},
          "execution_count": 48
        }
      ]
    },
    {
      "cell_type": "code",
      "source": [
        "import gym\n",
        "env = gym.make('FrozenLake-v1', render_mode='ansi')\n",
        "state = env.reset()\n",
        "\n",
        "print('Time Step 0:')\n",
        "print(env.render())\n",
        "\n",
        "num_timesteps = 20\n",
        "\n",
        "for t in range(num_timesteps):\n",
        "  random_action = env.action_space.sample()\n",
        "\n",
        "  new_state, reward, done, _ = env.step(random_action)\n",
        "  print(f'timestep {t+1}:')\n",
        "\n",
        "  print(env.render())\n",
        "\n",
        "  if done:\n",
        "    break"
      ],
      "metadata": {
        "colab": {
          "base_uri": "https://localhost:8080/"
        },
        "id": "x7jjl_r6zQ0l",
        "outputId": "b92941a2-8e00-4dcb-a085-3dfffa5e24d9"
      },
      "execution_count": 63,
      "outputs": [
        {
          "output_type": "stream",
          "name": "stdout",
          "text": [
            "Time Step 0:\n",
            "['\\n\\x1b[41mS\\x1b[0mFFF\\nFHFH\\nFFFH\\nHFFG\\n']\n",
            "timestep 1:\n",
            "['  (Up)\\nS\\x1b[41mF\\x1b[0mFF\\nFHFH\\nFFFH\\nHFFG\\n']\n",
            "timestep 2:\n",
            "['  (Down)\\nSF\\x1b[41mF\\x1b[0mF\\nFHFH\\nFFFH\\nHFFG\\n']\n",
            "timestep 3:\n",
            "['  (Down)\\nSFFF\\nFH\\x1b[41mF\\x1b[0mH\\nFFFH\\nHFFG\\n']\n",
            "timestep 4:\n",
            "['  (Left)\\nSF\\x1b[41mF\\x1b[0mF\\nFHFH\\nFFFH\\nHFFG\\n']\n",
            "timestep 5:\n",
            "['  (Right)\\nSFFF\\nFH\\x1b[41mF\\x1b[0mH\\nFFFH\\nHFFG\\n']\n",
            "timestep 6:\n",
            "['  (Up)\\nSFFF\\nFHF\\x1b[41mH\\x1b[0m\\nFFFH\\nHFFG\\n']\n"
          ]
        },
        {
          "output_type": "stream",
          "name": "stderr",
          "text": [
            "/usr/local/lib/python3.10/dist-packages/ipykernel/ipkernel.py:283: DeprecationWarning: `should_run_async` will not call `transform_cell` automatically in the future. Please pass the result to `transformed_cell` argument and any exception that happen during thetransform in `preprocessing_exc_tuple` in IPython 7.17 and above.\n",
            "  and should_run_async(code)\n",
            "/usr/local/lib/python3.10/dist-packages/gym/core.py:317: DeprecationWarning: \u001b[33mWARN: Initializing wrapper in old step API which returns one bool instead of two. It is recommended to set `new_step_api=True` to use new step API. This will be the default behaviour in future.\u001b[0m\n",
            "  deprecation(\n",
            "/usr/local/lib/python3.10/dist-packages/gym/wrappers/step_api_compatibility.py:39: DeprecationWarning: \u001b[33mWARN: Initializing environment in old step API which returns one bool instead of two. It is recommended to set `new_step_api=True` to use new step API. This will be the default behaviour in future.\u001b[0m\n",
            "  deprecation(\n"
          ]
        }
      ]
    },
    {
      "cell_type": "markdown",
      "source": [
        "### 1. 정책 반복법(Policy Iteration)을 이용하여 최적 Policy 산출"
      ],
      "metadata": {
        "id": "Yrgw9FhM3r1t"
      }
    },
    {
      "cell_type": "code",
      "source": [
        "import numpy as np\n",
        "import gym\n",
        "env = gym.make('FrozenLake-v1', render_mode='ansi')\n",
        "\n",
        "def value_iteration(env):\n",
        "  num_iterations = 5000\n",
        "  thre = 1e-20\n",
        "  gamma = 0.9\n",
        "  value_table = np.zeros(env.observation_space.n)\n",
        "\n",
        "  for i in range(num_iterations):\n",
        "    updated_value_table = np.copy(value_table)\n",
        "\n",
        "    for s in range(env.observation_space.n):\n",
        "      q_values = [sum([prob*(r+gamma*updated_value_table[s_]) for prob, s_, r, _ in env.P[s][a]]) for a in range(env.action_space.n)]\n",
        "      value_table[s] = max(q_values)\n",
        "\n",
        "    if (np.sum(np.fabs(updated_value_table-value_table))<=thre):\n",
        "      break\n",
        "  return value_table"
      ],
      "metadata": {
        "colab": {
          "base_uri": "https://localhost:8080/"
        },
        "id": "vYIEujJTzQ2-",
        "outputId": "8f05f9d3-9589-46f4-b403-5fd19ce26a9f"
      },
      "execution_count": 65,
      "outputs": [
        {
          "output_type": "stream",
          "name": "stderr",
          "text": [
            "/usr/local/lib/python3.10/dist-packages/ipykernel/ipkernel.py:283: DeprecationWarning: `should_run_async` will not call `transform_cell` automatically in the future. Please pass the result to `transformed_cell` argument and any exception that happen during thetransform in `preprocessing_exc_tuple` in IPython 7.17 and above.\n",
            "  and should_run_async(code)\n",
            "/usr/local/lib/python3.10/dist-packages/gym/core.py:317: DeprecationWarning: \u001b[33mWARN: Initializing wrapper in old step API which returns one bool instead of two. It is recommended to set `new_step_api=True` to use new step API. This will be the default behaviour in future.\u001b[0m\n",
            "  deprecation(\n",
            "/usr/local/lib/python3.10/dist-packages/gym/wrappers/step_api_compatibility.py:39: DeprecationWarning: \u001b[33mWARN: Initializing environment in old step API which returns one bool instead of two. It is recommended to set `new_step_api=True` to use new step API. This will be the default behaviour in future.\u001b[0m\n",
            "  deprecation(\n"
          ]
        }
      ]
    },
    {
      "cell_type": "code",
      "source": [
        "def policy_iteration(value_table):\n",
        "  gamma = 0.9\n",
        "  policy = np.zeros(env.observation_space.n)\n",
        "\n",
        "  for s in range(env.observation_space.n):\n",
        "    q_values = [sum([prob*(r+gamma*value_table[s_]) for prob, s_, r, _ in env.P[s][a]]) for a in range(env.action_space.n)]\n",
        "    policy[s] = np.argmax(np.array(q_values))\n",
        "  return policy"
      ],
      "metadata": {
        "colab": {
          "base_uri": "https://localhost:8080/"
        },
        "id": "ppoSpL0G1-w2",
        "outputId": "50c1df6b-81d8-4e0f-b101-89400278cf6b"
      },
      "execution_count": 66,
      "outputs": [
        {
          "output_type": "stream",
          "name": "stderr",
          "text": [
            "/usr/local/lib/python3.10/dist-packages/ipykernel/ipkernel.py:283: DeprecationWarning: `should_run_async` will not call `transform_cell` automatically in the future. Please pass the result to `transformed_cell` argument and any exception that happen during thetransform in `preprocessing_exc_tuple` in IPython 7.17 and above.\n",
            "  and should_run_async(code)\n"
          ]
        }
      ]
    },
    {
      "cell_type": "code",
      "source": [
        "optimal_value_function = value_iteration(env)\n",
        "optimal_policy = policy_iteration(optimal_value_function)"
      ],
      "metadata": {
        "colab": {
          "base_uri": "https://localhost:8080/"
        },
        "id": "obVQ_w8K4LTB",
        "outputId": "ff714330-ad93-435e-c5a2-906f1a5cddce"
      },
      "execution_count": 67,
      "outputs": [
        {
          "output_type": "stream",
          "name": "stderr",
          "text": [
            "/usr/local/lib/python3.10/dist-packages/ipykernel/ipkernel.py:283: DeprecationWarning: `should_run_async` will not call `transform_cell` automatically in the future. Please pass the result to `transformed_cell` argument and any exception that happen during thetransform in `preprocessing_exc_tuple` in IPython 7.17 and above.\n",
            "  and should_run_async(code)\n"
          ]
        }
      ]
    },
    {
      "cell_type": "code",
      "source": [
        "print(optimal_value_function)\n",
        "print(optimal_policy)"
      ],
      "metadata": {
        "colab": {
          "base_uri": "https://localhost:8080/"
        },
        "id": "h9D5HmOx4MG7",
        "outputId": "999e1651-cedc-4784-c2b0-f0a5a6780464"
      },
      "execution_count": 76,
      "outputs": [
        {
          "output_type": "stream",
          "name": "stdout",
          "text": [
            "[0.0688909  0.06141457 0.07440976 0.05580732 0.09185454 0.\n",
            " 0.11220821 0.         0.14543635 0.24749695 0.29961759 0.\n",
            " 0.         0.3799359  0.63902015 0.        ]\n",
            "[0. 3. 0. 3. 0. 0. 0. 0. 3. 1. 0. 0. 0. 2. 1. 0.]\n"
          ]
        }
      ]
    },
    {
      "cell_type": "code",
      "source": [
        "obs = env.reset()\n",
        "episode_reward = 0.0\n",
        "\n",
        "for i in range(20):\n",
        "  action = np.int_(optimal_policy[obs])\n",
        "  obs, reward, done, info = env.step(action)\n",
        "  print(env.render())\n",
        "  episode_reward += reward\n",
        "  if done:\n",
        "    print('rewards :', episode_reward)\n",
        "    episode_reward = 0.0\n",
        "    obs = env.reset()"
      ],
      "metadata": {
        "colab": {
          "base_uri": "https://localhost:8080/"
        },
        "id": "w1QjH__b4YWl",
        "outputId": "c83c27ca-8073-43d1-a526-ece35a20125c"
      },
      "execution_count": 77,
      "outputs": [
        {
          "output_type": "stream",
          "name": "stdout",
          "text": [
            "['\\n\\x1b[41mS\\x1b[0mFFF\\nFHFH\\nFFFH\\nHFFG\\n', '  (Left)\\n\\x1b[41mS\\x1b[0mFFF\\nFHFH\\nFFFH\\nHFFG\\n']\n",
            "['  (Left)\\nSFFF\\n\\x1b[41mF\\x1b[0mHFH\\nFFFH\\nHFFG\\n']\n",
            "['  (Left)\\nSFFF\\nFHFH\\n\\x1b[41mF\\x1b[0mFFH\\nHFFG\\n']\n",
            "['  (Up)\\nSFFF\\nFHFH\\nF\\x1b[41mF\\x1b[0mFH\\nHFFG\\n']\n",
            "['  (Down)\\nSFFF\\nFHFH\\nFF\\x1b[41mF\\x1b[0mH\\nHFFG\\n']\n",
            "['  (Left)\\nSFFF\\nFH\\x1b[41mF\\x1b[0mH\\nFFFH\\nHFFG\\n']\n",
            "['  (Left)\\nSF\\x1b[41mF\\x1b[0mF\\nFHFH\\nFFFH\\nHFFG\\n']\n",
            "['  (Left)\\nS\\x1b[41mF\\x1b[0mFF\\nFHFH\\nFFFH\\nHFFG\\n']\n",
            "['  (Up)\\nS\\x1b[41mF\\x1b[0mFF\\nFHFH\\nFFFH\\nHFFG\\n']\n",
            "['  (Up)\\nS\\x1b[41mF\\x1b[0mFF\\nFHFH\\nFFFH\\nHFFG\\n']\n",
            "['  (Up)\\n\\x1b[41mS\\x1b[0mFFF\\nFHFH\\nFFFH\\nHFFG\\n']\n",
            "['  (Left)\\n\\x1b[41mS\\x1b[0mFFF\\nFHFH\\nFFFH\\nHFFG\\n']\n",
            "['  (Left)\\nSFFF\\n\\x1b[41mF\\x1b[0mHFH\\nFFFH\\nHFFG\\n']\n",
            "['  (Left)\\n\\x1b[41mS\\x1b[0mFFF\\nFHFH\\nFFFH\\nHFFG\\n']\n",
            "['  (Left)\\n\\x1b[41mS\\x1b[0mFFF\\nFHFH\\nFFFH\\nHFFG\\n']\n",
            "['  (Left)\\nSFFF\\n\\x1b[41mF\\x1b[0mHFH\\nFFFH\\nHFFG\\n']\n",
            "['  (Left)\\nSFFF\\nFHFH\\n\\x1b[41mF\\x1b[0mFFH\\nHFFG\\n']\n",
            "['  (Up)\\nSFFF\\n\\x1b[41mF\\x1b[0mHFH\\nFFFH\\nHFFG\\n']\n",
            "['  (Left)\\nSFFF\\nFHFH\\n\\x1b[41mF\\x1b[0mFFH\\nHFFG\\n']\n",
            "['  (Up)\\nSFFF\\nFHFH\\nF\\x1b[41mF\\x1b[0mFH\\nHFFG\\n']\n"
          ]
        }
      ]
    },
    {
      "cell_type": "markdown",
      "source": [
        "### 2. 가치 반복법(Value Iteration)을 이용하여 최적 Policy 산출"
      ],
      "metadata": {
        "id": "oQjCXXO03yDT"
      }
    },
    {
      "cell_type": "code",
      "source": [
        "import numpy as np\n",
        "import gym\n",
        "env = gym.make('FrozenLake-v1', render_mode='ansi')"
      ],
      "metadata": {
        "colab": {
          "base_uri": "https://localhost:8080/"
        },
        "id": "DOqvSErC1-zL",
        "outputId": "578ad02b-204a-4761-8915-a9ceff89c4f6"
      },
      "execution_count": 78,
      "outputs": [
        {
          "output_type": "stream",
          "name": "stderr",
          "text": [
            "/usr/local/lib/python3.10/dist-packages/ipykernel/ipkernel.py:283: DeprecationWarning: `should_run_async` will not call `transform_cell` automatically in the future. Please pass the result to `transformed_cell` argument and any exception that happen during thetransform in `preprocessing_exc_tuple` in IPython 7.17 and above.\n",
            "  and should_run_async(code)\n",
            "/usr/local/lib/python3.10/dist-packages/gym/core.py:317: DeprecationWarning: \u001b[33mWARN: Initializing wrapper in old step API which returns one bool instead of two. It is recommended to set `new_step_api=True` to use new step API. This will be the default behaviour in future.\u001b[0m\n",
            "  deprecation(\n",
            "/usr/local/lib/python3.10/dist-packages/gym/wrappers/step_api_compatibility.py:39: DeprecationWarning: \u001b[33mWARN: Initializing environment in old step API which returns one bool instead of two. It is recommended to set `new_step_api=True` to use new step API. This will be the default behaviour in future.\u001b[0m\n",
            "  deprecation(\n"
          ]
        }
      ]
    },
    {
      "cell_type": "code",
      "source": [
        "def value_iteration(env):\n",
        "  num_iterations = 5000\n",
        "  thre = 1e-20\n",
        "  gamma = 0.9\n",
        "  value_table = np.zeros(env.observation_space.n)\n",
        "\n",
        "  for i in range(num_iterations):\n",
        "    updated_value_table = np.copy(value_table)\n",
        "    for s in range(env.observation_space.n):\n",
        "      q_values = [sum([prob*(r+gamma*updated_value_table[s_]) for prob, s_, r, _ in env.P[s][a]]) for a in range(env.action_space.n)]\n",
        "      value_table[s] = max(q_values)\n",
        "\n",
        "    if (np.sum(np.fabs(updated_value_table - value_table)) <= thre):\n",
        "      break\n",
        "  return value_table"
      ],
      "metadata": {
        "colab": {
          "base_uri": "https://localhost:8080/"
        },
        "id": "OXjLH22w1-1m",
        "outputId": "637c5968-834f-4e43-b3b9-a98432532ec3"
      },
      "execution_count": 79,
      "outputs": [
        {
          "output_type": "stream",
          "name": "stderr",
          "text": [
            "/usr/local/lib/python3.10/dist-packages/ipykernel/ipkernel.py:283: DeprecationWarning: `should_run_async` will not call `transform_cell` automatically in the future. Please pass the result to `transformed_cell` argument and any exception that happen during thetransform in `preprocessing_exc_tuple` in IPython 7.17 and above.\n",
            "  and should_run_async(code)\n"
          ]
        }
      ]
    },
    {
      "cell_type": "code",
      "source": [
        "def policy_iteration(value_table):\n",
        "  gamma = 0.9\n",
        "  policy = np.zeros(env.observation_space.n)\n",
        "\n",
        "  for s in range(env.observation_space.n):\n",
        "    q_values = [sum([prob * (r + gamma*value_table[s_]) for prob, s_, r, _ in env.P[s][a]]) for a in range(env.action_space.n)]\n",
        "    policy[s] = np.argmax(np.array(q_values))\n",
        "  return policy"
      ],
      "metadata": {
        "id": "QsAyol7QzQ42"
      },
      "execution_count": 86,
      "outputs": []
    },
    {
      "cell_type": "code",
      "source": [
        "optimal_value_function = value_iteration(env)\n",
        "optimal_policy = policy_iteration(optimal_value_function)"
      ],
      "metadata": {
        "id": "iVrZstK8zQ7O"
      },
      "execution_count": 87,
      "outputs": []
    },
    {
      "cell_type": "code",
      "source": [
        "print(optimal_value_function)\n",
        "print(optimal_policy)"
      ],
      "metadata": {
        "colab": {
          "base_uri": "https://localhost:8080/"
        },
        "id": "h6mSkuS4tkZG",
        "outputId": "69432e96-e6e3-4878-8bf4-17dc4e9a66ee"
      },
      "execution_count": 88,
      "outputs": [
        {
          "output_type": "stream",
          "name": "stdout",
          "text": [
            "[0.0688909  0.06141457 0.07440976 0.05580732 0.09185454 0.\n",
            " 0.11220821 0.         0.14543635 0.24749695 0.29961759 0.\n",
            " 0.         0.3799359  0.63902015 0.        ]\n",
            "[0. 3. 0. 3. 0. 0. 0. 0. 3. 1. 0. 0. 0. 2. 1. 0.]\n"
          ]
        }
      ]
    },
    {
      "cell_type": "code",
      "source": [
        "obs = env.reset()\n",
        "episode_reward = 0.0\n",
        "\n",
        "for i in range(20):\n",
        "  action = np.int_(optimal_policy[obs])\n",
        "  obs, reward, done, info = env.step(action)\n",
        "  print(env.render())\n",
        "  episode_reward += reward\n",
        "  if done:\n",
        "    print('rewards:', episode_reward)\n",
        "    episode_reward = 0.0\n",
        "    obs = env.reset()"
      ],
      "metadata": {
        "colab": {
          "base_uri": "https://localhost:8080/"
        },
        "id": "NqhD-U1G6j0t",
        "outputId": "1fb24825-0784-41c6-d5bf-4e3ce3d814c4"
      },
      "execution_count": 90,
      "outputs": [
        {
          "output_type": "stream",
          "name": "stdout",
          "text": [
            "['\\n\\x1b[41mS\\x1b[0mFFF\\nFHFH\\nFFFH\\nHFFG\\n', '  (Left)\\n\\x1b[41mS\\x1b[0mFFF\\nFHFH\\nFFFH\\nHFFG\\n']\n",
            "['  (Left)\\n\\x1b[41mS\\x1b[0mFFF\\nFHFH\\nFFFH\\nHFFG\\n']\n",
            "['  (Left)\\n\\x1b[41mS\\x1b[0mFFF\\nFHFH\\nFFFH\\nHFFG\\n']\n",
            "['  (Left)\\nSFFF\\n\\x1b[41mF\\x1b[0mHFH\\nFFFH\\nHFFG\\n']\n",
            "['  (Left)\\n\\x1b[41mS\\x1b[0mFFF\\nFHFH\\nFFFH\\nHFFG\\n']\n",
            "['  (Left)\\nSFFF\\n\\x1b[41mF\\x1b[0mHFH\\nFFFH\\nHFFG\\n']\n",
            "['  (Left)\\nSFFF\\nFHFH\\n\\x1b[41mF\\x1b[0mFFH\\nHFFG\\n']\n",
            "['  (Up)\\nSFFF\\nFHFH\\nF\\x1b[41mF\\x1b[0mFH\\nHFFG\\n']\n",
            "['  (Down)\\nSFFF\\nFHFH\\nFFFH\\nH\\x1b[41mF\\x1b[0mFG\\n']\n",
            "['  (Right)\\nSFFF\\nFHFH\\nFFFH\\nH\\x1b[41mF\\x1b[0mFG\\n']\n",
            "['  (Right)\\nSFFF\\nFHFH\\nFFFH\\nH\\x1b[41mF\\x1b[0mFG\\n']\n",
            "['  (Right)\\nSFFF\\nFHFH\\nF\\x1b[41mF\\x1b[0mFH\\nHFFG\\n']\n",
            "['  (Down)\\nSFFF\\nFHFH\\n\\x1b[41mF\\x1b[0mFFH\\nHFFG\\n']\n",
            "['  (Up)\\nSFFF\\nFHFH\\n\\x1b[41mF\\x1b[0mFFH\\nHFFG\\n']\n",
            "['  (Up)\\nSFFF\\n\\x1b[41mF\\x1b[0mHFH\\nFFFH\\nHFFG\\n']\n",
            "['  (Left)\\nSFFF\\nFHFH\\n\\x1b[41mF\\x1b[0mFFH\\nHFFG\\n']\n",
            "['  (Up)\\nSFFF\\n\\x1b[41mF\\x1b[0mHFH\\nFFFH\\nHFFG\\n']\n",
            "['  (Left)\\nSFFF\\nFHFH\\n\\x1b[41mF\\x1b[0mFFH\\nHFFG\\n']\n",
            "['  (Up)\\nSFFF\\nFHFH\\n\\x1b[41mF\\x1b[0mFFH\\nHFFG\\n']\n",
            "['  (Up)\\nSFFF\\nFHFH\\nF\\x1b[41mF\\x1b[0mFH\\nHFFG\\n']\n"
          ]
        }
      ]
    },
    {
      "cell_type": "code",
      "source": [],
      "metadata": {
        "id": "mKzArs-_tkbs"
      },
      "execution_count": null,
      "outputs": []
    }
  ]
}
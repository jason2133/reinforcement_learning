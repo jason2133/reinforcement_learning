{
  "cells": [
    {
      "cell_type": "code",
      "execution_count": 1,
      "metadata": {
        "colab": {
          "base_uri": "https://localhost:8080/"
        },
        "id": "oF5F4E4ntgET",
        "outputId": "f6c7b00f-d786-4ce2-acc5-9815b9a33bf2"
      },
      "outputs": [
        {
          "name": "stdout",
          "output_type": "stream",
          "text": [
            "Requirement already satisfied: gym in c:\\programdata\\anaconda3\\envs\\torchpy37\\lib\\site-packages (0.26.2)\n",
            "Requirement already satisfied: numpy>=1.18.0 in c:\\programdata\\anaconda3\\envs\\torchpy37\\lib\\site-packages (from gym) (1.21.6)\n",
            "Requirement already satisfied: cloudpickle>=1.2.0 in c:\\programdata\\anaconda3\\envs\\torchpy37\\lib\\site-packages (from gym) (2.2.1)\n",
            "Requirement already satisfied: gym-notices>=0.0.4 in c:\\programdata\\anaconda3\\envs\\torchpy37\\lib\\site-packages (from gym) (0.0.8)\n",
            "Requirement already satisfied: importlib-metadata>=4.8.0 in c:\\programdata\\anaconda3\\envs\\torchpy37\\lib\\site-packages (from gym) (6.7.0)\n",
            "Requirement already satisfied: zipp>=0.5 in c:\\programdata\\anaconda3\\envs\\torchpy37\\lib\\site-packages (from importlib-metadata>=4.8.0->gym) (3.15.0)\n",
            "Requirement already satisfied: typing-extensions>=3.6.4 in c:\\programdata\\anaconda3\\envs\\torchpy37\\lib\\site-packages (from importlib-metadata>=4.8.0->gym) (4.7.1)\n"
          ]
        }
      ],
      "source": [
        "!pip install gym"
      ]
    },
    {
      "cell_type": "code",
      "execution_count": 3,
      "metadata": {
        "colab": {
          "base_uri": "https://localhost:8080/"
        },
        "id": "OYsPO8xJvkCN",
        "outputId": "46bf26db-fc2c-45ce-e425-4e081547330f"
      },
      "outputs": [
        {
          "name": "stdout",
          "output_type": "stream",
          "text": [
            "0.26.2\n"
          ]
        }
      ],
      "source": [
        "import gym\n",
        "print(gym.__version__)"
      ]
    },
    {
      "cell_type": "code",
      "execution_count": 4,
      "metadata": {
        "colab": {
          "base_uri": "https://localhost:8080/"
        },
        "id": "1NorVPJBuPKA",
        "outputId": "322f94f9-788e-410f-c452-084ffabecc49"
      },
      "outputs": [
        {
          "data": {
            "text/plain": [
              "array([[[180, 200, 230],\n",
              "        [180, 200, 230],\n",
              "        [180, 200, 230],\n",
              "        ...,\n",
              "        [180, 200, 230],\n",
              "        [180, 200, 230],\n",
              "        [180, 200, 230]],\n",
              "\n",
              "       [[180, 200, 230],\n",
              "        [204, 230, 255],\n",
              "        [204, 230, 255],\n",
              "        ...,\n",
              "        [204, 230, 255],\n",
              "        [204, 230, 255],\n",
              "        [180, 200, 230]],\n",
              "\n",
              "       [[180, 200, 230],\n",
              "        [235, 245, 249],\n",
              "        [204, 230, 255],\n",
              "        ...,\n",
              "        [204, 230, 255],\n",
              "        [204, 230, 255],\n",
              "        [180, 200, 230]],\n",
              "\n",
              "       ...,\n",
              "\n",
              "       [[180, 200, 230],\n",
              "        [235, 245, 249],\n",
              "        [235, 245, 249],\n",
              "        ...,\n",
              "        [204, 230, 255],\n",
              "        [235, 245, 249],\n",
              "        [180, 200, 230]],\n",
              "\n",
              "       [[180, 200, 230],\n",
              "        [235, 245, 249],\n",
              "        [235, 245, 249],\n",
              "        ...,\n",
              "        [204, 230, 255],\n",
              "        [204, 230, 255],\n",
              "        [180, 200, 230]],\n",
              "\n",
              "       [[180, 200, 230],\n",
              "        [180, 200, 230],\n",
              "        [180, 200, 230],\n",
              "        ...,\n",
              "        [180, 200, 230],\n",
              "        [180, 200, 230],\n",
              "        [180, 200, 230]]], dtype=uint8)"
            ]
          },
          "execution_count": 4,
          "metadata": {},
          "output_type": "execute_result"
        }
      ],
      "source": [
        "import gym\n",
        "# env = gym.make('FrozenLake-v1', render_mode='ansi')\n",
        "env = gym.make('FrozenLake-v1', render_mode='rgb_array')\n",
        "env.reset()\n",
        "env.render()"
      ]
    },
    {
      "cell_type": "code",
      "execution_count": 5,
      "metadata": {
        "id": "RIYm0OSau6Hq"
      },
      "outputs": [],
      "source": [
        "env.close()"
      ]
    },
    {
      "cell_type": "code",
      "execution_count": 6,
      "metadata": {
        "colab": {
          "base_uri": "https://localhost:8080/"
        },
        "id": "EKFc-wCLwKMj",
        "outputId": "e8b07e04-1422-485a-988b-19776f00009b"
      },
      "outputs": [
        {
          "data": {
            "text/plain": [
              "'\\n\\x1b[41mS\\x1b[0mFFF\\nFHFH\\nFFFH\\nHFFG\\n'"
            ]
          },
          "execution_count": 6,
          "metadata": {},
          "output_type": "execute_result"
        }
      ],
      "source": [
        "import gym\n",
        "env = gym.make('FrozenLake-v1', render_mode='ansi')\n",
        "# env = gym.make('FrozenLake-v1', render_mode='rgb_array')\n",
        "env.reset()\n",
        "env.render()"
      ]
    },
    {
      "cell_type": "code",
      "execution_count": 7,
      "metadata": {
        "colab": {
          "base_uri": "https://localhost:8080/"
        },
        "id": "ToqbIjt20HA5",
        "outputId": "b8dbcb47-e218-46f8-b93b-caebf4255caa"
      },
      "outputs": [
        {
          "name": "stdout",
          "output_type": "stream",
          "text": [
            "\n",
            "\u001b[41mS\u001b[0mFFF\n",
            "FHFH\n",
            "FFFH\n",
            "HFFG\n",
            "\n"
          ]
        }
      ],
      "source": [
        "import gym\n",
        "env = gym.make('FrozenLake-v1', render_mode='ansi')\n",
        "env.reset()\n",
        "print(env.render())"
      ]
    },
    {
      "cell_type": "code",
      "execution_count": 8,
      "metadata": {
        "id": "1vvq-9NKwhso"
      },
      "outputs": [],
      "source": [
        "# S를 출발하여 H에 빠지지 않고 F를 통과해서 G에 도달하는 것이 목적임.\n",
        "# S : 현재의 State\n",
        "# H : Hole\n",
        "# F : 호수가 얼은 부분\n",
        "# G : 최종 목적지\n",
        "\n",
        "# SFFF\n",
        "# FHFH\n",
        "# FFFH\n",
        "# HFFG"
      ]
    },
    {
      "cell_type": "code",
      "execution_count": 9,
      "metadata": {
        "id": "UzcHEQidwKPD"
      },
      "outputs": [],
      "source": [
        "env.close()"
      ]
    },
    {
      "cell_type": "code",
      "execution_count": 10,
      "metadata": {
        "colab": {
          "base_uri": "https://localhost:8080/"
        },
        "id": "yZIky7H1wKRe",
        "outputId": "5890dc31-1600-432f-bfae-e031cdaf5241"
      },
      "outputs": [
        {
          "name": "stdout",
          "output_type": "stream",
          "text": [
            "Discrete(16)\n"
          ]
        }
      ],
      "source": [
        "# Discrete(16) : 16개의 유한한 state (0 ~ 15)\n",
        "print(env.observation_space)"
      ]
    },
    {
      "cell_type": "code",
      "execution_count": 11,
      "metadata": {
        "colab": {
          "base_uri": "https://localhost:8080/"
        },
        "id": "zJzMO7t1wKT5",
        "outputId": "403e634d-5df3-48fe-8f9d-87fdec0b04e0"
      },
      "outputs": [
        {
          "name": "stdout",
          "output_type": "stream",
          "text": [
            "Discrete(4)\n"
          ]
        }
      ],
      "source": [
        "# Discrete(4) : 유한한 4개(0 ~ 3)의 Action\n",
        "# FrozenLake의 Action : 4개로 구성\n",
        "# Left : 0, Down : 1, Right : 2, Up : 3\n",
        "\n",
        "print(env.action_space)"
      ]
    },
    {
      "cell_type": "code",
      "execution_count": 12,
      "metadata": {
        "colab": {
          "base_uri": "https://localhost:8080/"
        },
        "id": "h-y5JdncwKWG",
        "outputId": "39909d3c-e782-49af-d6d9-32d00f029ba9"
      },
      "outputs": [
        {
          "name": "stdout",
          "output_type": "stream",
          "text": [
            "16\n",
            "4\n"
          ]
        }
      ],
      "source": [
        "print(env.observation_space.n)\n",
        "print(env.action_space.n)"
      ]
    },
    {
      "cell_type": "code",
      "execution_count": 13,
      "metadata": {
        "colab": {
          "base_uri": "https://localhost:8080/"
        },
        "id": "c-AIcu75wKX-",
        "outputId": "5cfe4342-dcc0-48a4-df17-a611d08c1165"
      },
      "outputs": [
        {
          "name": "stdout",
          "output_type": "stream",
          "text": [
            "[(0.3333333333333333, 0, 0.0, False), (0.3333333333333333, 0, 0.0, False), (0.3333333333333333, 4, 0.0, False)]\n",
            "[(1.0, 15, 0, True)]\n",
            "[(1.0, 5, 0, True)]\n"
          ]
        }
      ],
      "source": [
        "# P[state][action] = ㅠ(action | state)\n",
        "# [p(s'|s, a), s', r, terminal 여부]\n",
        "\n",
        "# p(s'|s, a) : 현재 State s에서 Action a를 선택하여 s'으로 이동할 확률\n",
        "# 다음 state s'\n",
        "# reward\n",
        "# s'이 Terminal State인지의 해당 여부\n",
        "\n",
        "print(env.P[0][0])\n",
        "print(env.P[15][1])\n",
        "print(env.P[5][0])"
      ]
    },
    {
      "cell_type": "code",
      "execution_count": 14,
      "metadata": {
        "colab": {
          "base_uri": "https://localhost:8080/"
        },
        "id": "fYn7eR_JwKZ7",
        "outputId": "488c1262-1973-4c94-974e-2999ffb2cf6f"
      },
      "outputs": [
        {
          "name": "stdout",
          "output_type": "stream",
          "text": [
            "[(0.3333333333333333, 0, 0.0, False), (0.3333333333333333, 0, 0.0, False), (0.3333333333333333, 4, 0.0, False)]\n"
          ]
        }
      ],
      "source": [
        "# State 0에서 Action 0 (Left)를 취하면 0.66의 확률로 State 0에 계속 머물고, 0.33의 확률로 State 4로 이동함.\n",
        "print(env.P[0][0])"
      ]
    },
    {
      "cell_type": "code",
      "execution_count": 15,
      "metadata": {
        "colab": {
          "base_uri": "https://localhost:8080/"
        },
        "id": "coenS30ExNt5",
        "outputId": "6987a526-19bd-49f7-acc1-2cf661198338"
      },
      "outputs": [
        {
          "name": "stdout",
          "output_type": "stream",
          "text": [
            "[(1.0, 15, 0, True)]\n"
          ]
        }
      ],
      "source": [
        "# State 15가 G이므로 어떤 Action은 취해도 최종 목적지에 계속 머물고 있으며, G가 Terminal State임을 의미함.\n",
        "print(env.P[15][1])"
      ]
    },
    {
      "cell_type": "code",
      "execution_count": 16,
      "metadata": {
        "colab": {
          "base_uri": "https://localhost:8080/"
        },
        "id": "wvmX0vlIxNwF",
        "outputId": "a33d3720-0a65-49d9-f1fb-2649cabed497"
      },
      "outputs": [
        {
          "name": "stdout",
          "output_type": "stream",
          "text": [
            "[(1.0, 5, 0, True)]\n"
          ]
        }
      ],
      "source": [
        "# State 5가 Hole이므로 Terminal State이며 State 5에 계속 머물고 있음을 의미함.\n",
        "print(env.P[5][0])"
      ]
    },
    {
      "cell_type": "code",
      "execution_count": 18,
      "metadata": {
        "colab": {
          "base_uri": "https://localhost:8080/"
        },
        "id": "rQ3GsxtEwKcW",
        "outputId": "6cce3a3a-269a-4e94-9a0e-0281190de8c1"
      },
      "outputs": [
        {
          "name": "stdout",
          "output_type": "stream",
          "text": [
            "\n",
            "\u001b[41mS\u001b[0mFFF\n",
            "FHFH\n",
            "FFFH\n",
            "HFFG\n",
            "\n"
          ]
        }
      ],
      "source": [
        "state = env.reset()\n",
        "print(env.render())\n",
        "\n",
        "# [S]FFF\n",
        "# FHFH\n",
        "# FFFH\n",
        "# HFFG"
      ]
    },
    {
      "cell_type": "code",
      "execution_count": 19,
      "metadata": {
        "colab": {
          "base_uri": "https://localhost:8080/"
        },
        "id": "gL5wXC5jwKe3",
        "outputId": "eb759a56-d252-4444-c1c0-39536ab4b417"
      },
      "outputs": [
        {
          "name": "stdout",
          "output_type": "stream",
          "text": [
            "(1, 0.0, False, False, {'prob': 0.3333333333333333})\n"
          ]
        }
      ],
      "source": [
        "# Action 1 : Down을 취했을 때의 결과\n",
        "# (next_state, reward, Terminal 여부, Information)\n",
        "print(env.step(1))"
      ]
    },
    {
      "cell_type": "code",
      "execution_count": 20,
      "metadata": {
        "colab": {
          "base_uri": "https://localhost:8080/"
        },
        "id": "7QnSvWqbu6KP",
        "outputId": "7b06e158-7258-4121-a883-7d69a0820ca4"
      },
      "outputs": [
        {
          "name": "stdout",
          "output_type": "stream",
          "text": [
            "  (Down)\n",
            "S\u001b[41mF\u001b[0mFF\n",
            "FHFH\n",
            "FFFH\n",
            "HFFG\n",
            "\n"
          ]
        }
      ],
      "source": [
        "print(env.render())\n",
        "\n",
        "# SFFF\n",
        "# [F]HFH\n",
        "# FFFH\n",
        "# HFFG"
      ]
    },
    {
      "cell_type": "code",
      "execution_count": 26,
      "metadata": {
        "colab": {
          "base_uri": "https://localhost:8080/"
        },
        "id": "x7jjl_r6zQ0l",
        "outputId": "b92941a2-8e00-4dcb-a085-3dfffa5e24d9"
      },
      "outputs": [
        {
          "name": "stdout",
          "output_type": "stream",
          "text": [
            "Time Step 0:\n",
            "\n",
            "\u001b[41mS\u001b[0mFFF\n",
            "FHFH\n",
            "FFFH\n",
            "HFFG\n",
            "\n",
            "timestep 1:\n",
            "  (Left)\n",
            "SFFF\n",
            "FHFH\n",
            "\u001b[41mF\u001b[0mFFH\n",
            "HFFG\n",
            "\n",
            "timestep 2:\n",
            "  (Up)\n",
            "SFFF\n",
            "F\u001b[41mH\u001b[0mFH\n",
            "FFFH\n",
            "HFFG\n",
            "\n",
            "timestep 3:\n",
            "  (Up)\n",
            "SFFF\n",
            "F\u001b[41mH\u001b[0mFH\n",
            "FFFH\n",
            "HFFG\n",
            "\n"
          ]
        }
      ],
      "source": [
        "import gym\n",
        "env = gym.make('FrozenLake-v1', render_mode='ansi')\n",
        "state = env.reset()\n",
        "\n",
        "print('Time Step 0:')\n",
        "print(env.render())\n",
        "\n",
        "num_timesteps = 20\n",
        "\n",
        "for t in range(num_timesteps):\n",
        "  random_action = env.action_space.sample()\n",
        "\n",
        "  new_state, reward, done, _, _ = env.step(random_action)\n",
        "  env.step(random_action)\n",
        "  print(f'timestep {t+1}:')\n",
        "\n",
        "  print(env.render())\n",
        "\n",
        "  if done:\n",
        "    break"
      ]
    },
    {
      "cell_type": "markdown",
      "metadata": {
        "id": "Yrgw9FhM3r1t"
      },
      "source": [
        "### 1. 정책 반복법(Policy Iteration)을 이용하여 최적 Policy 산출"
      ]
    },
    {
      "cell_type": "code",
      "execution_count": 27,
      "metadata": {
        "colab": {
          "base_uri": "https://localhost:8080/"
        },
        "id": "vYIEujJTzQ2-",
        "outputId": "8f05f9d3-9589-46f4-b403-5fd19ce26a9f"
      },
      "outputs": [],
      "source": [
        "import numpy as np\n",
        "import gym\n",
        "env = gym.make('FrozenLake-v1', render_mode='ansi')\n",
        "\n",
        "def value_iteration(env):\n",
        "  num_iterations = 5000\n",
        "  thre = 1e-20\n",
        "  gamma = 0.9\n",
        "  value_table = np.zeros(env.observation_space.n)\n",
        "\n",
        "  for i in range(num_iterations):\n",
        "    updated_value_table = np.copy(value_table)\n",
        "\n",
        "    for s in range(env.observation_space.n):\n",
        "      q_values = [sum([prob*(r+gamma*updated_value_table[s_]) for prob, s_, r, _ in env.P[s][a]]) for a in range(env.action_space.n)]\n",
        "      value_table[s] = max(q_values)\n",
        "\n",
        "    if (np.sum(np.fabs(updated_value_table-value_table))<=thre):\n",
        "      break\n",
        "  return value_table"
      ]
    },
    {
      "cell_type": "code",
      "execution_count": 28,
      "metadata": {
        "colab": {
          "base_uri": "https://localhost:8080/"
        },
        "id": "ppoSpL0G1-w2",
        "outputId": "50c1df6b-81d8-4e0f-b101-89400278cf6b"
      },
      "outputs": [],
      "source": [
        "def policy_iteration(value_table):\n",
        "  gamma = 0.9\n",
        "  policy = np.zeros(env.observation_space.n)\n",
        "\n",
        "  for s in range(env.observation_space.n):\n",
        "    q_values = [sum([prob*(r+gamma*value_table[s_]) for prob, s_, r, _ in env.P[s][a]]) for a in range(env.action_space.n)]\n",
        "    policy[s] = np.argmax(np.array(q_values))\n",
        "  return policy"
      ]
    },
    {
      "cell_type": "code",
      "execution_count": 29,
      "metadata": {
        "colab": {
          "base_uri": "https://localhost:8080/"
        },
        "id": "obVQ_w8K4LTB",
        "outputId": "ff714330-ad93-435e-c5a2-906f1a5cddce"
      },
      "outputs": [],
      "source": [
        "optimal_value_function = value_iteration(env)\n",
        "optimal_policy = policy_iteration(optimal_value_function)"
      ]
    },
    {
      "cell_type": "code",
      "execution_count": 30,
      "metadata": {
        "colab": {
          "base_uri": "https://localhost:8080/"
        },
        "id": "h9D5HmOx4MG7",
        "outputId": "999e1651-cedc-4784-c2b0-f0a5a6780464"
      },
      "outputs": [
        {
          "name": "stdout",
          "output_type": "stream",
          "text": [
            "[0.0688909  0.06141457 0.07440976 0.05580732 0.09185454 0.\n",
            " 0.11220821 0.         0.14543635 0.24749695 0.29961759 0.\n",
            " 0.         0.3799359  0.63902015 0.        ]\n",
            "[0. 3. 0. 3. 0. 0. 0. 0. 3. 1. 0. 0. 0. 2. 1. 0.]\n"
          ]
        }
      ],
      "source": [
        "print(optimal_value_function)\n",
        "print(optimal_policy)"
      ]
    },
    {
      "cell_type": "code",
      "execution_count": 34,
      "metadata": {
        "colab": {
          "base_uri": "https://localhost:8080/"
        },
        "id": "w1QjH__b4YWl",
        "outputId": "c83c27ca-8073-43d1-a526-ece35a20125c"
      },
      "outputs": [],
      "source": [
        "obs = env.reset()\n",
        "episode_reward = 0.0\n",
        "\n",
        "for i in range(20):\n",
        "  action = np.int_(optimal_policy[obs])\n",
        "  # obs, reward, done, info = env.step(action)\n",
        "  obs, reward, done, truncated, info = env.step(action)\n",
        "  print(env.render())\n",
        "  episode_reward += reward\n",
        "  if done:\n",
        "    print('rewards :', episode_reward)\n",
        "    episode_reward = 0.0\n",
        "    obs = env.reset()"
      ]
    },
    {
      "cell_type": "markdown",
      "metadata": {
        "id": "oQjCXXO03yDT"
      },
      "source": [
        "### 2. 가치 반복법(Value Iteration)을 이용하여 최적 Policy 산출"
      ]
    },
    {
      "cell_type": "code",
      "execution_count": 78,
      "metadata": {
        "colab": {
          "base_uri": "https://localhost:8080/"
        },
        "id": "DOqvSErC1-zL",
        "outputId": "578ad02b-204a-4761-8915-a9ceff89c4f6"
      },
      "outputs": [
        {
          "name": "stderr",
          "output_type": "stream",
          "text": [
            "/usr/local/lib/python3.10/dist-packages/ipykernel/ipkernel.py:283: DeprecationWarning: `should_run_async` will not call `transform_cell` automatically in the future. Please pass the result to `transformed_cell` argument and any exception that happen during thetransform in `preprocessing_exc_tuple` in IPython 7.17 and above.\n",
            "  and should_run_async(code)\n",
            "/usr/local/lib/python3.10/dist-packages/gym/core.py:317: DeprecationWarning: \u001b[33mWARN: Initializing wrapper in old step API which returns one bool instead of two. It is recommended to set `new_step_api=True` to use new step API. This will be the default behaviour in future.\u001b[0m\n",
            "  deprecation(\n",
            "/usr/local/lib/python3.10/dist-packages/gym/wrappers/step_api_compatibility.py:39: DeprecationWarning: \u001b[33mWARN: Initializing environment in old step API which returns one bool instead of two. It is recommended to set `new_step_api=True` to use new step API. This will be the default behaviour in future.\u001b[0m\n",
            "  deprecation(\n"
          ]
        }
      ],
      "source": [
        "import numpy as np\n",
        "import gym\n",
        "env = gym.make('FrozenLake-v1', render_mode='ansi')"
      ]
    },
    {
      "cell_type": "code",
      "execution_count": 79,
      "metadata": {
        "colab": {
          "base_uri": "https://localhost:8080/"
        },
        "id": "OXjLH22w1-1m",
        "outputId": "637c5968-834f-4e43-b3b9-a98432532ec3"
      },
      "outputs": [
        {
          "name": "stderr",
          "output_type": "stream",
          "text": [
            "/usr/local/lib/python3.10/dist-packages/ipykernel/ipkernel.py:283: DeprecationWarning: `should_run_async` will not call `transform_cell` automatically in the future. Please pass the result to `transformed_cell` argument and any exception that happen during thetransform in `preprocessing_exc_tuple` in IPython 7.17 and above.\n",
            "  and should_run_async(code)\n"
          ]
        }
      ],
      "source": [
        "def value_iteration(env):\n",
        "  num_iterations = 5000\n",
        "  thre = 1e-20\n",
        "  gamma = 0.9\n",
        "  value_table = np.zeros(env.observation_space.n)\n",
        "\n",
        "  for i in range(num_iterations):\n",
        "    updated_value_table = np.copy(value_table)\n",
        "    for s in range(env.observation_space.n):\n",
        "      q_values = [sum([prob*(r+gamma*updated_value_table[s_]) for prob, s_, r, _ in env.P[s][a]]) for a in range(env.action_space.n)]\n",
        "      value_table[s] = max(q_values)\n",
        "\n",
        "    if (np.sum(np.fabs(updated_value_table - value_table)) <= thre):\n",
        "      break\n",
        "  return value_table"
      ]
    },
    {
      "cell_type": "code",
      "execution_count": 86,
      "metadata": {
        "id": "QsAyol7QzQ42"
      },
      "outputs": [],
      "source": [
        "def policy_iteration(value_table):\n",
        "  gamma = 0.9\n",
        "  policy = np.zeros(env.observation_space.n)\n",
        "\n",
        "  for s in range(env.observation_space.n):\n",
        "    q_values = [sum([prob * (r + gamma*value_table[s_]) for prob, s_, r, _ in env.P[s][a]]) for a in range(env.action_space.n)]\n",
        "    policy[s] = np.argmax(np.array(q_values))\n",
        "  return policy"
      ]
    },
    {
      "cell_type": "code",
      "execution_count": 87,
      "metadata": {
        "id": "iVrZstK8zQ7O"
      },
      "outputs": [],
      "source": [
        "optimal_value_function = value_iteration(env)\n",
        "optimal_policy = policy_iteration(optimal_value_function)"
      ]
    },
    {
      "cell_type": "code",
      "execution_count": 88,
      "metadata": {
        "colab": {
          "base_uri": "https://localhost:8080/"
        },
        "id": "h6mSkuS4tkZG",
        "outputId": "69432e96-e6e3-4878-8bf4-17dc4e9a66ee"
      },
      "outputs": [
        {
          "name": "stdout",
          "output_type": "stream",
          "text": [
            "[0.0688909  0.06141457 0.07440976 0.05580732 0.09185454 0.\n",
            " 0.11220821 0.         0.14543635 0.24749695 0.29961759 0.\n",
            " 0.         0.3799359  0.63902015 0.        ]\n",
            "[0. 3. 0. 3. 0. 0. 0. 0. 3. 1. 0. 0. 0. 2. 1. 0.]\n"
          ]
        }
      ],
      "source": [
        "print(optimal_value_function)\n",
        "print(optimal_policy)"
      ]
    },
    {
      "cell_type": "code",
      "execution_count": 90,
      "metadata": {
        "colab": {
          "base_uri": "https://localhost:8080/"
        },
        "id": "NqhD-U1G6j0t",
        "outputId": "1fb24825-0784-41c6-d5bf-4e3ce3d814c4"
      },
      "outputs": [
        {
          "name": "stdout",
          "output_type": "stream",
          "text": [
            "['\\n\\x1b[41mS\\x1b[0mFFF\\nFHFH\\nFFFH\\nHFFG\\n', '  (Left)\\n\\x1b[41mS\\x1b[0mFFF\\nFHFH\\nFFFH\\nHFFG\\n']\n",
            "['  (Left)\\n\\x1b[41mS\\x1b[0mFFF\\nFHFH\\nFFFH\\nHFFG\\n']\n",
            "['  (Left)\\n\\x1b[41mS\\x1b[0mFFF\\nFHFH\\nFFFH\\nHFFG\\n']\n",
            "['  (Left)\\nSFFF\\n\\x1b[41mF\\x1b[0mHFH\\nFFFH\\nHFFG\\n']\n",
            "['  (Left)\\n\\x1b[41mS\\x1b[0mFFF\\nFHFH\\nFFFH\\nHFFG\\n']\n",
            "['  (Left)\\nSFFF\\n\\x1b[41mF\\x1b[0mHFH\\nFFFH\\nHFFG\\n']\n",
            "['  (Left)\\nSFFF\\nFHFH\\n\\x1b[41mF\\x1b[0mFFH\\nHFFG\\n']\n",
            "['  (Up)\\nSFFF\\nFHFH\\nF\\x1b[41mF\\x1b[0mFH\\nHFFG\\n']\n",
            "['  (Down)\\nSFFF\\nFHFH\\nFFFH\\nH\\x1b[41mF\\x1b[0mFG\\n']\n",
            "['  (Right)\\nSFFF\\nFHFH\\nFFFH\\nH\\x1b[41mF\\x1b[0mFG\\n']\n",
            "['  (Right)\\nSFFF\\nFHFH\\nFFFH\\nH\\x1b[41mF\\x1b[0mFG\\n']\n",
            "['  (Right)\\nSFFF\\nFHFH\\nF\\x1b[41mF\\x1b[0mFH\\nHFFG\\n']\n",
            "['  (Down)\\nSFFF\\nFHFH\\n\\x1b[41mF\\x1b[0mFFH\\nHFFG\\n']\n",
            "['  (Up)\\nSFFF\\nFHFH\\n\\x1b[41mF\\x1b[0mFFH\\nHFFG\\n']\n",
            "['  (Up)\\nSFFF\\n\\x1b[41mF\\x1b[0mHFH\\nFFFH\\nHFFG\\n']\n",
            "['  (Left)\\nSFFF\\nFHFH\\n\\x1b[41mF\\x1b[0mFFH\\nHFFG\\n']\n",
            "['  (Up)\\nSFFF\\n\\x1b[41mF\\x1b[0mHFH\\nFFFH\\nHFFG\\n']\n",
            "['  (Left)\\nSFFF\\nFHFH\\n\\x1b[41mF\\x1b[0mFFH\\nHFFG\\n']\n",
            "['  (Up)\\nSFFF\\nFHFH\\n\\x1b[41mF\\x1b[0mFFH\\nHFFG\\n']\n",
            "['  (Up)\\nSFFF\\nFHFH\\nF\\x1b[41mF\\x1b[0mFH\\nHFFG\\n']\n"
          ]
        }
      ],
      "source": [
        "obs = env.reset()\n",
        "episode_reward = 0.0\n",
        "\n",
        "for i in range(20):\n",
        "  action = np.int_(optimal_policy[obs])\n",
        "  obs, reward, done, info = env.step(action)\n",
        "  print(env.render())\n",
        "  episode_reward += reward\n",
        "  if done:\n",
        "    print('rewards:', episode_reward)\n",
        "    episode_reward = 0.0\n",
        "    obs = env.reset()"
      ]
    },
    {
      "cell_type": "markdown",
      "metadata": {},
      "source": [
        "### 그림으로 시각화한 버전\n",
        "#### FrozenLake-v1"
      ]
    },
    {
      "cell_type": "code",
      "execution_count": 37,
      "metadata": {},
      "outputs": [
        {
          "name": "stdout",
          "output_type": "stream",
          "text": [
            "gym:[0.26.2]\n",
            "numpy:[1.21.6]\n",
            "matplotlib:[3.5.3]\n"
          ]
        }
      ],
      "source": [
        "import gym\n",
        "from gym import envs\n",
        "import numpy as np\n",
        "import matplotlib\n",
        "import matplotlib.pyplot as plt\n",
        "import mediapy as media\n",
        "from moviepy.video.io.bindings import mplfig_to_npimage\n",
        "%config InlineBackend.figure_format = 'retina'\n",
        "%matplotlib inline\n",
        "np.set_printoptions(precision=2)\n",
        "print (\"gym:[%s]\"%(gym.__version__))\n",
        "print (\"numpy:[%s]\"%(np.__version__))\n",
        "print (\"matplotlib:[%s]\"%(matplotlib.__version__))"
      ]
    },
    {
      "cell_type": "code",
      "execution_count": 38,
      "metadata": {},
      "outputs": [],
      "source": [
        "env = gym.make('FrozenLake-v1', render_mode='rgb_array')"
      ]
    },
    {
      "cell_type": "code",
      "execution_count": 45,
      "metadata": {},
      "outputs": [],
      "source": [
        "def plot_env(env, figsize=(4, 4), title_str=None, title_fs=10, PLOT_IMG=True, RETURN_IMG=False):\n",
        "    img = env.render()\n",
        "    fig = plt.figure(figsize=figsize)\n",
        "    plt.imshow(img)\n",
        "    # plt.axis('off')\n",
        "    \n",
        "    if title_str is not None:\n",
        "        plt.title(title_str, fontsize=title_fs)\n",
        "    if PLOT_IMG:\n",
        "        plt.show()\n",
        "    if RETURN_IMG:\n",
        "        img = mplfig_to_npimage(fig)\n",
        "        plt.close()\n",
        "        return img"
      ]
    },
    {
      "cell_type": "code",
      "execution_count": 46,
      "metadata": {},
      "outputs": [
        {
          "data": {
            "image/png": "[encoded data removed]",
            "text/plain": [
              "<Figure size 400x400 with 1 Axes>"
            ]
          },
          "metadata": {
            "image/png": {
              "height": 356,
              "width": 370
            }
          },
          "output_type": "display_data"
        }
      ],
      "source": [
        "env.reset()\n",
        "plot_env(env, figsize=(4, 4))"
      ]
    },
    {
      "cell_type": "code",
      "execution_count": 48,
      "metadata": {},
      "outputs": [
        {
          "name": "stdout",
          "output_type": "stream",
          "text": [
            "Discrete(16)\n",
            "16\n",
            "Discrete(4)\n",
            "4\n"
          ]
        }
      ],
      "source": [
        "obs_space = env.observation_space\n",
        "n_state = obs_space.n\n",
        "action_space = env.action_space\n",
        "n_action = action_space.n\n",
        "\n",
        "print(obs_space)\n",
        "print(n_state)\n",
        "print(action_space)\n",
        "print(n_action)"
      ]
    },
    {
      "cell_type": "code",
      "execution_count": 49,
      "metadata": {},
      "outputs": [
        {
          "name": "stdout",
          "output_type": "stream",
          "text": [
            "8\n"
          ]
        }
      ],
      "source": [
        "env.reset()\n",
        "n_step = 50\n",
        "frames = []\n",
        "for tick in range(n_step):\n",
        "    action = env.action_space.sample()\n",
        "    \n",
        "    # step\n",
        "    observation, reward, done, truncated, info = env.step(action)\n",
        "    \n",
        "    title_str = \"tick:[%d/%d] action:[%s] reward:[%.2f] done:[%d]\"%(\n",
        "        tick,n_step,action,reward,done\n",
        "    )\n",
        "    \n",
        "    img = plot_env(env, figsize=(4, 4), title_str=title_str, title_fs=8, PLOT_IMG=False, RETURN_IMG=True)\n",
        "    \n",
        "    frames.append(img)\n",
        "    \n",
        "    if done:\n",
        "        break\n",
        "\n",
        "env.close()\n",
        "\n",
        "print(tick)"
      ]
    },
    {
      "cell_type": "code",
      "execution_count": 52,
      "metadata": {},
      "outputs": [],
      "source": [
        "# media.show_video(frames, fps=5)"
      ]
    },
    {
      "cell_type": "code",
      "execution_count": 53,
      "metadata": {},
      "outputs": [
        {
          "name": "stdout",
          "output_type": "stream",
          "text": [
            "P(s' : 00 | s: 00, a : 00) = 0.33, Reward = 0.00\n",
            "P(s' : 00 | s: 00, a : 00) = 0.33, Reward = 0.00\n",
            "P(s' : 04 | s: 00, a : 00) = 0.33, Reward = 0.00\n",
            "P(s' : 00 | s: 00, a : 01) = 0.33, Reward = 0.00\n",
            "P(s' : 04 | s: 00, a : 01) = 0.33, Reward = 0.00\n",
            "P(s' : 01 | s: 00, a : 01) = 0.33, Reward = 0.00\n",
            "P(s' : 04 | s: 00, a : 02) = 0.33, Reward = 0.00\n",
            "P(s' : 01 | s: 00, a : 02) = 0.33, Reward = 0.00\n",
            "P(s' : 00 | s: 00, a : 02) = 0.33, Reward = 0.00\n",
            "P(s' : 01 | s: 00, a : 03) = 0.33, Reward = 0.00\n",
            "P(s' : 00 | s: 00, a : 03) = 0.33, Reward = 0.00\n",
            "P(s' : 00 | s: 00, a : 03) = 0.33, Reward = 0.00\n",
            "P(s' : 01 | s: 01, a : 00) = 0.33, Reward = 0.00\n",
            "P(s' : 00 | s: 01, a : 00) = 0.33, Reward = 0.00\n",
            "P(s' : 05 | s: 01, a : 00) = 0.33, Reward = 0.00\n",
            "P(s' : 00 | s: 01, a : 01) = 0.33, Reward = 0.00\n",
            "P(s' : 05 | s: 01, a : 01) = 0.33, Reward = 0.00\n",
            "P(s' : 02 | s: 01, a : 01) = 0.33, Reward = 0.00\n",
            "P(s' : 05 | s: 01, a : 02) = 0.33, Reward = 0.00\n",
            "P(s' : 02 | s: 01, a : 02) = 0.33, Reward = 0.00\n",
            "P(s' : 01 | s: 01, a : 02) = 0.33, Reward = 0.00\n",
            "P(s' : 02 | s: 01, a : 03) = 0.33, Reward = 0.00\n",
            "P(s' : 01 | s: 01, a : 03) = 0.33, Reward = 0.00\n",
            "P(s' : 00 | s: 01, a : 03) = 0.33, Reward = 0.00\n",
            "P(s' : 02 | s: 02, a : 00) = 0.33, Reward = 0.00\n",
            "P(s' : 01 | s: 02, a : 00) = 0.33, Reward = 0.00\n",
            "P(s' : 06 | s: 02, a : 00) = 0.33, Reward = 0.00\n",
            "P(s' : 01 | s: 02, a : 01) = 0.33, Reward = 0.00\n",
            "P(s' : 06 | s: 02, a : 01) = 0.33, Reward = 0.00\n",
            "P(s' : 03 | s: 02, a : 01) = 0.33, Reward = 0.00\n",
            "P(s' : 06 | s: 02, a : 02) = 0.33, Reward = 0.00\n",
            "P(s' : 03 | s: 02, a : 02) = 0.33, Reward = 0.00\n",
            "P(s' : 02 | s: 02, a : 02) = 0.33, Reward = 0.00\n",
            "P(s' : 03 | s: 02, a : 03) = 0.33, Reward = 0.00\n",
            "P(s' : 02 | s: 02, a : 03) = 0.33, Reward = 0.00\n",
            "P(s' : 01 | s: 02, a : 03) = 0.33, Reward = 0.00\n",
            "P(s' : 03 | s: 03, a : 00) = 0.33, Reward = 0.00\n",
            "P(s' : 02 | s: 03, a : 00) = 0.33, Reward = 0.00\n",
            "P(s' : 07 | s: 03, a : 00) = 0.33, Reward = 0.00\n",
            "P(s' : 02 | s: 03, a : 01) = 0.33, Reward = 0.00\n",
            "P(s' : 07 | s: 03, a : 01) = 0.33, Reward = 0.00\n",
            "P(s' : 03 | s: 03, a : 01) = 0.33, Reward = 0.00\n",
            "P(s' : 07 | s: 03, a : 02) = 0.33, Reward = 0.00\n",
            "P(s' : 03 | s: 03, a : 02) = 0.33, Reward = 0.00\n",
            "P(s' : 03 | s: 03, a : 02) = 0.33, Reward = 0.00\n",
            "P(s' : 03 | s: 03, a : 03) = 0.33, Reward = 0.00\n",
            "P(s' : 03 | s: 03, a : 03) = 0.33, Reward = 0.00\n",
            "P(s' : 02 | s: 03, a : 03) = 0.33, Reward = 0.00\n",
            "P(s' : 00 | s: 04, a : 00) = 0.33, Reward = 0.00\n",
            "P(s' : 04 | s: 04, a : 00) = 0.33, Reward = 0.00\n",
            "P(s' : 08 | s: 04, a : 00) = 0.33, Reward = 0.00\n",
            "P(s' : 04 | s: 04, a : 01) = 0.33, Reward = 0.00\n",
            "P(s' : 08 | s: 04, a : 01) = 0.33, Reward = 0.00\n",
            "P(s' : 05 | s: 04, a : 01) = 0.33, Reward = 0.00\n",
            "P(s' : 08 | s: 04, a : 02) = 0.33, Reward = 0.00\n",
            "P(s' : 05 | s: 04, a : 02) = 0.33, Reward = 0.00\n",
            "P(s' : 00 | s: 04, a : 02) = 0.33, Reward = 0.00\n",
            "P(s' : 05 | s: 04, a : 03) = 0.33, Reward = 0.00\n",
            "P(s' : 00 | s: 04, a : 03) = 0.33, Reward = 0.00\n",
            "P(s' : 04 | s: 04, a : 03) = 0.33, Reward = 0.00\n",
            "P(s' : 05 | s: 05, a : 00) = 1.00, Reward = 0.00\n",
            "P(s' : 05 | s: 05, a : 01) = 1.00, Reward = 0.00\n",
            "P(s' : 05 | s: 05, a : 02) = 1.00, Reward = 0.00\n",
            "P(s' : 05 | s: 05, a : 03) = 1.00, Reward = 0.00\n",
            "P(s' : 02 | s: 06, a : 00) = 0.33, Reward = 0.00\n",
            "P(s' : 05 | s: 06, a : 00) = 0.33, Reward = 0.00\n",
            "P(s' : 10 | s: 06, a : 00) = 0.33, Reward = 0.00\n",
            "P(s' : 05 | s: 06, a : 01) = 0.33, Reward = 0.00\n",
            "P(s' : 10 | s: 06, a : 01) = 0.33, Reward = 0.00\n",
            "P(s' : 07 | s: 06, a : 01) = 0.33, Reward = 0.00\n",
            "P(s' : 10 | s: 06, a : 02) = 0.33, Reward = 0.00\n",
            "P(s' : 07 | s: 06, a : 02) = 0.33, Reward = 0.00\n",
            "P(s' : 02 | s: 06, a : 02) = 0.33, Reward = 0.00\n",
            "P(s' : 07 | s: 06, a : 03) = 0.33, Reward = 0.00\n",
            "P(s' : 02 | s: 06, a : 03) = 0.33, Reward = 0.00\n",
            "P(s' : 05 | s: 06, a : 03) = 0.33, Reward = 0.00\n",
            "P(s' : 07 | s: 07, a : 00) = 1.00, Reward = 0.00\n",
            "P(s' : 07 | s: 07, a : 01) = 1.00, Reward = 0.00\n",
            "P(s' : 07 | s: 07, a : 02) = 1.00, Reward = 0.00\n",
            "P(s' : 07 | s: 07, a : 03) = 1.00, Reward = 0.00\n",
            "P(s' : 04 | s: 08, a : 00) = 0.33, Reward = 0.00\n",
            "P(s' : 08 | s: 08, a : 00) = 0.33, Reward = 0.00\n",
            "P(s' : 12 | s: 08, a : 00) = 0.33, Reward = 0.00\n",
            "P(s' : 08 | s: 08, a : 01) = 0.33, Reward = 0.00\n",
            "P(s' : 12 | s: 08, a : 01) = 0.33, Reward = 0.00\n",
            "P(s' : 09 | s: 08, a : 01) = 0.33, Reward = 0.00\n",
            "P(s' : 12 | s: 08, a : 02) = 0.33, Reward = 0.00\n",
            "P(s' : 09 | s: 08, a : 02) = 0.33, Reward = 0.00\n",
            "P(s' : 04 | s: 08, a : 02) = 0.33, Reward = 0.00\n",
            "P(s' : 09 | s: 08, a : 03) = 0.33, Reward = 0.00\n",
            "P(s' : 04 | s: 08, a : 03) = 0.33, Reward = 0.00\n",
            "P(s' : 08 | s: 08, a : 03) = 0.33, Reward = 0.00\n",
            "P(s' : 05 | s: 09, a : 00) = 0.33, Reward = 0.00\n",
            "P(s' : 08 | s: 09, a : 00) = 0.33, Reward = 0.00\n",
            "P(s' : 13 | s: 09, a : 00) = 0.33, Reward = 0.00\n",
            "P(s' : 08 | s: 09, a : 01) = 0.33, Reward = 0.00\n",
            "P(s' : 13 | s: 09, a : 01) = 0.33, Reward = 0.00\n",
            "P(s' : 10 | s: 09, a : 01) = 0.33, Reward = 0.00\n",
            "P(s' : 13 | s: 09, a : 02) = 0.33, Reward = 0.00\n",
            "P(s' : 10 | s: 09, a : 02) = 0.33, Reward = 0.00\n",
            "P(s' : 05 | s: 09, a : 02) = 0.33, Reward = 0.00\n",
            "P(s' : 10 | s: 09, a : 03) = 0.33, Reward = 0.00\n",
            "P(s' : 05 | s: 09, a : 03) = 0.33, Reward = 0.00\n",
            "P(s' : 08 | s: 09, a : 03) = 0.33, Reward = 0.00\n",
            "P(s' : 06 | s: 10, a : 00) = 0.33, Reward = 0.00\n",
            "P(s' : 09 | s: 10, a : 00) = 0.33, Reward = 0.00\n",
            "P(s' : 14 | s: 10, a : 00) = 0.33, Reward = 0.00\n",
            "P(s' : 09 | s: 10, a : 01) = 0.33, Reward = 0.00\n",
            "P(s' : 14 | s: 10, a : 01) = 0.33, Reward = 0.00\n",
            "P(s' : 11 | s: 10, a : 01) = 0.33, Reward = 0.00\n",
            "P(s' : 14 | s: 10, a : 02) = 0.33, Reward = 0.00\n",
            "P(s' : 11 | s: 10, a : 02) = 0.33, Reward = 0.00\n",
            "P(s' : 06 | s: 10, a : 02) = 0.33, Reward = 0.00\n",
            "P(s' : 11 | s: 10, a : 03) = 0.33, Reward = 0.00\n",
            "P(s' : 06 | s: 10, a : 03) = 0.33, Reward = 0.00\n",
            "P(s' : 09 | s: 10, a : 03) = 0.33, Reward = 0.00\n",
            "P(s' : 11 | s: 11, a : 00) = 1.00, Reward = 0.00\n",
            "P(s' : 11 | s: 11, a : 01) = 1.00, Reward = 0.00\n",
            "P(s' : 11 | s: 11, a : 02) = 1.00, Reward = 0.00\n",
            "P(s' : 11 | s: 11, a : 03) = 1.00, Reward = 0.00\n",
            "P(s' : 12 | s: 12, a : 00) = 1.00, Reward = 0.00\n",
            "P(s' : 12 | s: 12, a : 01) = 1.00, Reward = 0.00\n",
            "P(s' : 12 | s: 12, a : 02) = 1.00, Reward = 0.00\n",
            "P(s' : 12 | s: 12, a : 03) = 1.00, Reward = 0.00\n",
            "P(s' : 09 | s: 13, a : 00) = 0.33, Reward = 0.00\n",
            "P(s' : 12 | s: 13, a : 00) = 0.33, Reward = 0.00\n",
            "P(s' : 13 | s: 13, a : 00) = 0.33, Reward = 0.00\n",
            "P(s' : 12 | s: 13, a : 01) = 0.33, Reward = 0.00\n",
            "P(s' : 13 | s: 13, a : 01) = 0.33, Reward = 0.00\n",
            "P(s' : 14 | s: 13, a : 01) = 0.33, Reward = 0.00\n",
            "P(s' : 13 | s: 13, a : 02) = 0.33, Reward = 0.00\n",
            "P(s' : 14 | s: 13, a : 02) = 0.33, Reward = 0.00\n",
            "P(s' : 09 | s: 13, a : 02) = 0.33, Reward = 0.00\n",
            "P(s' : 14 | s: 13, a : 03) = 0.33, Reward = 0.00\n",
            "P(s' : 09 | s: 13, a : 03) = 0.33, Reward = 0.00\n",
            "P(s' : 12 | s: 13, a : 03) = 0.33, Reward = 0.00\n",
            "P(s' : 10 | s: 14, a : 00) = 0.33, Reward = 0.00\n",
            "P(s' : 13 | s: 14, a : 00) = 0.33, Reward = 0.00\n",
            "P(s' : 14 | s: 14, a : 00) = 0.33, Reward = 0.00\n",
            "P(s' : 13 | s: 14, a : 01) = 0.33, Reward = 0.00\n",
            "P(s' : 14 | s: 14, a : 01) = 0.33, Reward = 0.00\n",
            "P(s' : 15 | s: 14, a : 01) = 0.33, Reward = 1.00\n",
            "P(s' : 14 | s: 14, a : 02) = 0.33, Reward = 0.00\n",
            "P(s' : 15 | s: 14, a : 02) = 0.33, Reward = 1.00\n",
            "P(s' : 10 | s: 14, a : 02) = 0.33, Reward = 0.00\n",
            "P(s' : 15 | s: 14, a : 03) = 0.33, Reward = 1.00\n",
            "P(s' : 10 | s: 14, a : 03) = 0.33, Reward = 0.00\n",
            "P(s' : 13 | s: 14, a : 03) = 0.33, Reward = 0.00\n",
            "P(s' : 15 | s: 15, a : 00) = 1.00, Reward = 0.00\n",
            "P(s' : 15 | s: 15, a : 01) = 1.00, Reward = 0.00\n",
            "P(s' : 15 | s: 15, a : 02) = 1.00, Reward = 0.00\n",
            "P(s' : 15 | s: 15, a : 03) = 1.00, Reward = 0.00\n"
          ]
        }
      ],
      "source": [
        "P = env.unwrapped.P\n",
        "\n",
        "# for all states\n",
        "for s in P.keys():\n",
        "    # for all actions\n",
        "    for a in P[s].keys():\n",
        "        for (prob, s_prime, rwd, _) in P[s][a]:\n",
        "            print(\"P(s' : %02d | s: %02d, a : %02d) = %.2f, Reward = %.2f\" % (s_prime, s, a, prob, rwd))"
      ]
    },
    {
      "cell_type": "markdown",
      "metadata": {},
      "source": [
        "#### FrozenLake8x8-v1"
      ]
    },
    {
      "cell_type": "code",
      "execution_count": 54,
      "metadata": {},
      "outputs": [],
      "source": [
        "env = gym.make('FrozenLake8x8-v1', render_mode='rgb_array')"
      ]
    },
    {
      "cell_type": "code",
      "execution_count": 55,
      "metadata": {},
      "outputs": [
        {
          "data": {
            "image/png": "[encoded data removed]",
            "text/plain": [
              "<Figure size 400x400 with 1 Axes>"
            ]
          },
          "metadata": {
            "image/png": {
              "height": 371,
              "width": 370
            }
          },
          "output_type": "display_data"
        }
      ],
      "source": [
        "env.reset()\n",
        "plot_env(env, figsize=(4, 4), title_str='Frozen Lake 8x8', title_fs=10)"
      ]
    },
    {
      "cell_type": "code",
      "execution_count": 56,
      "metadata": {},
      "outputs": [
        {
          "name": "stdout",
          "output_type": "stream",
          "text": [
            "Discrete(64)\n",
            "64\n",
            "Discrete(4)\n",
            "4\n"
          ]
        }
      ],
      "source": [
        "obs_space = env.observation_space\n",
        "n_state = obs_space.n\n",
        "action_space = env.action_space\n",
        "n_action = action_space.n\n",
        "\n",
        "print(obs_space)\n",
        "print(n_state)\n",
        "print(action_space)\n",
        "print(n_action)"
      ]
    },
    {
      "cell_type": "code",
      "execution_count": 57,
      "metadata": {},
      "outputs": [
        {
          "name": "stdout",
          "output_type": "stream",
          "text": [
            "10\n"
          ]
        }
      ],
      "source": [
        "env.reset()\n",
        "n_step = 50\n",
        "frames = []\n",
        "for tick in range(n_step):\n",
        "    action = env.action_space.sample()\n",
        "    \n",
        "    # step\n",
        "    observation, reward, done, truncated, info = env.step(action)\n",
        "    \n",
        "    title_str = \"tick:[%d/%d] action:[%s] reward:[%.2f] done:[%d]\"%(\n",
        "        tick,n_step,action,reward,done\n",
        "    )\n",
        "    \n",
        "    img = plot_env(env, figsize=(4, 4), title_str=title_str, title_fs=8, PLOT_IMG=False, RETURN_IMG=True)\n",
        "    \n",
        "    frames.append(img)\n",
        "    \n",
        "    if done:\n",
        "        break\n",
        "\n",
        "env.close()\n",
        "\n",
        "print(tick)"
      ]
    },
    {
      "cell_type": "code",
      "execution_count": 58,
      "metadata": {},
      "outputs": [
        {
          "name": "stdout",
          "output_type": "stream",
          "text": [
            "P(s' : 00 | s: 00, a : 00) = 0.33, Reward = 0.00\n",
            "P(s' : 00 | s: 00, a : 00) = 0.33, Reward = 0.00\n",
            "P(s' : 08 | s: 00, a : 00) = 0.33, Reward = 0.00\n",
            "P(s' : 00 | s: 00, a : 01) = 0.33, Reward = 0.00\n",
            "P(s' : 08 | s: 00, a : 01) = 0.33, Reward = 0.00\n",
            "P(s' : 01 | s: 00, a : 01) = 0.33, Reward = 0.00\n",
            "P(s' : 08 | s: 00, a : 02) = 0.33, Reward = 0.00\n",
            "P(s' : 01 | s: 00, a : 02) = 0.33, Reward = 0.00\n",
            "P(s' : 00 | s: 00, a : 02) = 0.33, Reward = 0.00\n",
            "P(s' : 01 | s: 00, a : 03) = 0.33, Reward = 0.00\n",
            "P(s' : 00 | s: 00, a : 03) = 0.33, Reward = 0.00\n",
            "P(s' : 00 | s: 00, a : 03) = 0.33, Reward = 0.00\n",
            "P(s' : 01 | s: 01, a : 00) = 0.33, Reward = 0.00\n",
            "P(s' : 00 | s: 01, a : 00) = 0.33, Reward = 0.00\n",
            "P(s' : 09 | s: 01, a : 00) = 0.33, Reward = 0.00\n",
            "P(s' : 00 | s: 01, a : 01) = 0.33, Reward = 0.00\n",
            "P(s' : 09 | s: 01, a : 01) = 0.33, Reward = 0.00\n",
            "P(s' : 02 | s: 01, a : 01) = 0.33, Reward = 0.00\n",
            "P(s' : 09 | s: 01, a : 02) = 0.33, Reward = 0.00\n",
            "P(s' : 02 | s: 01, a : 02) = 0.33, Reward = 0.00\n",
            "P(s' : 01 | s: 01, a : 02) = 0.33, Reward = 0.00\n",
            "P(s' : 02 | s: 01, a : 03) = 0.33, Reward = 0.00\n",
            "P(s' : 01 | s: 01, a : 03) = 0.33, Reward = 0.00\n",
            "P(s' : 00 | s: 01, a : 03) = 0.33, Reward = 0.00\n",
            "P(s' : 02 | s: 02, a : 00) = 0.33, Reward = 0.00\n",
            "P(s' : 01 | s: 02, a : 00) = 0.33, Reward = 0.00\n",
            "P(s' : 10 | s: 02, a : 00) = 0.33, Reward = 0.00\n",
            "P(s' : 01 | s: 02, a : 01) = 0.33, Reward = 0.00\n",
            "P(s' : 10 | s: 02, a : 01) = 0.33, Reward = 0.00\n",
            "P(s' : 03 | s: 02, a : 01) = 0.33, Reward = 0.00\n",
            "P(s' : 10 | s: 02, a : 02) = 0.33, Reward = 0.00\n",
            "P(s' : 03 | s: 02, a : 02) = 0.33, Reward = 0.00\n",
            "P(s' : 02 | s: 02, a : 02) = 0.33, Reward = 0.00\n",
            "P(s' : 03 | s: 02, a : 03) = 0.33, Reward = 0.00\n",
            "P(s' : 02 | s: 02, a : 03) = 0.33, Reward = 0.00\n",
            "P(s' : 01 | s: 02, a : 03) = 0.33, Reward = 0.00\n",
            "P(s' : 03 | s: 03, a : 00) = 0.33, Reward = 0.00\n",
            "P(s' : 02 | s: 03, a : 00) = 0.33, Reward = 0.00\n",
            "P(s' : 11 | s: 03, a : 00) = 0.33, Reward = 0.00\n",
            "P(s' : 02 | s: 03, a : 01) = 0.33, Reward = 0.00\n",
            "P(s' : 11 | s: 03, a : 01) = 0.33, Reward = 0.00\n",
            "P(s' : 04 | s: 03, a : 01) = 0.33, Reward = 0.00\n",
            "P(s' : 11 | s: 03, a : 02) = 0.33, Reward = 0.00\n",
            "P(s' : 04 | s: 03, a : 02) = 0.33, Reward = 0.00\n",
            "P(s' : 03 | s: 03, a : 02) = 0.33, Reward = 0.00\n",
            "P(s' : 04 | s: 03, a : 03) = 0.33, Reward = 0.00\n",
            "P(s' : 03 | s: 03, a : 03) = 0.33, Reward = 0.00\n",
            "P(s' : 02 | s: 03, a : 03) = 0.33, Reward = 0.00\n",
            "P(s' : 04 | s: 04, a : 00) = 0.33, Reward = 0.00\n",
            "P(s' : 03 | s: 04, a : 00) = 0.33, Reward = 0.00\n",
            "P(s' : 12 | s: 04, a : 00) = 0.33, Reward = 0.00\n",
            "P(s' : 03 | s: 04, a : 01) = 0.33, Reward = 0.00\n",
            "P(s' : 12 | s: 04, a : 01) = 0.33, Reward = 0.00\n",
            "P(s' : 05 | s: 04, a : 01) = 0.33, Reward = 0.00\n",
            "P(s' : 12 | s: 04, a : 02) = 0.33, Reward = 0.00\n",
            "P(s' : 05 | s: 04, a : 02) = 0.33, Reward = 0.00\n",
            "P(s' : 04 | s: 04, a : 02) = 0.33, Reward = 0.00\n",
            "P(s' : 05 | s: 04, a : 03) = 0.33, Reward = 0.00\n",
            "P(s' : 04 | s: 04, a : 03) = 0.33, Reward = 0.00\n",
            "P(s' : 03 | s: 04, a : 03) = 0.33, Reward = 0.00\n",
            "P(s' : 05 | s: 05, a : 00) = 0.33, Reward = 0.00\n",
            "P(s' : 04 | s: 05, a : 00) = 0.33, Reward = 0.00\n",
            "P(s' : 13 | s: 05, a : 00) = 0.33, Reward = 0.00\n",
            "P(s' : 04 | s: 05, a : 01) = 0.33, Reward = 0.00\n",
            "P(s' : 13 | s: 05, a : 01) = 0.33, Reward = 0.00\n",
            "P(s' : 06 | s: 05, a : 01) = 0.33, Reward = 0.00\n",
            "P(s' : 13 | s: 05, a : 02) = 0.33, Reward = 0.00\n",
            "P(s' : 06 | s: 05, a : 02) = 0.33, Reward = 0.00\n",
            "P(s' : 05 | s: 05, a : 02) = 0.33, Reward = 0.00\n",
            "P(s' : 06 | s: 05, a : 03) = 0.33, Reward = 0.00\n",
            "P(s' : 05 | s: 05, a : 03) = 0.33, Reward = 0.00\n",
            "P(s' : 04 | s: 05, a : 03) = 0.33, Reward = 0.00\n",
            "P(s' : 06 | s: 06, a : 00) = 0.33, Reward = 0.00\n",
            "P(s' : 05 | s: 06, a : 00) = 0.33, Reward = 0.00\n",
            "P(s' : 14 | s: 06, a : 00) = 0.33, Reward = 0.00\n",
            "P(s' : 05 | s: 06, a : 01) = 0.33, Reward = 0.00\n",
            "P(s' : 14 | s: 06, a : 01) = 0.33, Reward = 0.00\n",
            "P(s' : 07 | s: 06, a : 01) = 0.33, Reward = 0.00\n",
            "P(s' : 14 | s: 06, a : 02) = 0.33, Reward = 0.00\n",
            "P(s' : 07 | s: 06, a : 02) = 0.33, Reward = 0.00\n",
            "P(s' : 06 | s: 06, a : 02) = 0.33, Reward = 0.00\n",
            "P(s' : 07 | s: 06, a : 03) = 0.33, Reward = 0.00\n",
            "P(s' : 06 | s: 06, a : 03) = 0.33, Reward = 0.00\n",
            "P(s' : 05 | s: 06, a : 03) = 0.33, Reward = 0.00\n",
            "P(s' : 07 | s: 07, a : 00) = 0.33, Reward = 0.00\n",
            "P(s' : 06 | s: 07, a : 00) = 0.33, Reward = 0.00\n",
            "P(s' : 15 | s: 07, a : 00) = 0.33, Reward = 0.00\n",
            "P(s' : 06 | s: 07, a : 01) = 0.33, Reward = 0.00\n",
            "P(s' : 15 | s: 07, a : 01) = 0.33, Reward = 0.00\n",
            "P(s' : 07 | s: 07, a : 01) = 0.33, Reward = 0.00\n",
            "P(s' : 15 | s: 07, a : 02) = 0.33, Reward = 0.00\n",
            "P(s' : 07 | s: 07, a : 02) = 0.33, Reward = 0.00\n",
            "P(s' : 07 | s: 07, a : 02) = 0.33, Reward = 0.00\n",
            "P(s' : 07 | s: 07, a : 03) = 0.33, Reward = 0.00\n",
            "P(s' : 07 | s: 07, a : 03) = 0.33, Reward = 0.00\n",
            "P(s' : 06 | s: 07, a : 03) = 0.33, Reward = 0.00\n",
            "P(s' : 00 | s: 08, a : 00) = 0.33, Reward = 0.00\n",
            "P(s' : 08 | s: 08, a : 00) = 0.33, Reward = 0.00\n",
            "P(s' : 16 | s: 08, a : 00) = 0.33, Reward = 0.00\n",
            "P(s' : 08 | s: 08, a : 01) = 0.33, Reward = 0.00\n",
            "P(s' : 16 | s: 08, a : 01) = 0.33, Reward = 0.00\n",
            "P(s' : 09 | s: 08, a : 01) = 0.33, Reward = 0.00\n",
            "P(s' : 16 | s: 08, a : 02) = 0.33, Reward = 0.00\n",
            "P(s' : 09 | s: 08, a : 02) = 0.33, Reward = 0.00\n",
            "P(s' : 00 | s: 08, a : 02) = 0.33, Reward = 0.00\n",
            "P(s' : 09 | s: 08, a : 03) = 0.33, Reward = 0.00\n",
            "P(s' : 00 | s: 08, a : 03) = 0.33, Reward = 0.00\n",
            "P(s' : 08 | s: 08, a : 03) = 0.33, Reward = 0.00\n",
            "P(s' : 01 | s: 09, a : 00) = 0.33, Reward = 0.00\n",
            "P(s' : 08 | s: 09, a : 00) = 0.33, Reward = 0.00\n",
            "P(s' : 17 | s: 09, a : 00) = 0.33, Reward = 0.00\n",
            "P(s' : 08 | s: 09, a : 01) = 0.33, Reward = 0.00\n",
            "P(s' : 17 | s: 09, a : 01) = 0.33, Reward = 0.00\n",
            "P(s' : 10 | s: 09, a : 01) = 0.33, Reward = 0.00\n",
            "P(s' : 17 | s: 09, a : 02) = 0.33, Reward = 0.00\n",
            "P(s' : 10 | s: 09, a : 02) = 0.33, Reward = 0.00\n",
            "P(s' : 01 | s: 09, a : 02) = 0.33, Reward = 0.00\n",
            "P(s' : 10 | s: 09, a : 03) = 0.33, Reward = 0.00\n",
            "P(s' : 01 | s: 09, a : 03) = 0.33, Reward = 0.00\n",
            "P(s' : 08 | s: 09, a : 03) = 0.33, Reward = 0.00\n",
            "P(s' : 02 | s: 10, a : 00) = 0.33, Reward = 0.00\n",
            "P(s' : 09 | s: 10, a : 00) = 0.33, Reward = 0.00\n",
            "P(s' : 18 | s: 10, a : 00) = 0.33, Reward = 0.00\n",
            "P(s' : 09 | s: 10, a : 01) = 0.33, Reward = 0.00\n",
            "P(s' : 18 | s: 10, a : 01) = 0.33, Reward = 0.00\n",
            "P(s' : 11 | s: 10, a : 01) = 0.33, Reward = 0.00\n",
            "P(s' : 18 | s: 10, a : 02) = 0.33, Reward = 0.00\n",
            "P(s' : 11 | s: 10, a : 02) = 0.33, Reward = 0.00\n",
            "P(s' : 02 | s: 10, a : 02) = 0.33, Reward = 0.00\n",
            "P(s' : 11 | s: 10, a : 03) = 0.33, Reward = 0.00\n",
            "P(s' : 02 | s: 10, a : 03) = 0.33, Reward = 0.00\n",
            "P(s' : 09 | s: 10, a : 03) = 0.33, Reward = 0.00\n",
            "P(s' : 03 | s: 11, a : 00) = 0.33, Reward = 0.00\n",
            "P(s' : 10 | s: 11, a : 00) = 0.33, Reward = 0.00\n",
            "P(s' : 19 | s: 11, a : 00) = 0.33, Reward = 0.00\n",
            "P(s' : 10 | s: 11, a : 01) = 0.33, Reward = 0.00\n",
            "P(s' : 19 | s: 11, a : 01) = 0.33, Reward = 0.00\n",
            "P(s' : 12 | s: 11, a : 01) = 0.33, Reward = 0.00\n",
            "P(s' : 19 | s: 11, a : 02) = 0.33, Reward = 0.00\n",
            "P(s' : 12 | s: 11, a : 02) = 0.33, Reward = 0.00\n",
            "P(s' : 03 | s: 11, a : 02) = 0.33, Reward = 0.00\n",
            "P(s' : 12 | s: 11, a : 03) = 0.33, Reward = 0.00\n",
            "P(s' : 03 | s: 11, a : 03) = 0.33, Reward = 0.00\n",
            "P(s' : 10 | s: 11, a : 03) = 0.33, Reward = 0.00\n",
            "P(s' : 04 | s: 12, a : 00) = 0.33, Reward = 0.00\n",
            "P(s' : 11 | s: 12, a : 00) = 0.33, Reward = 0.00\n",
            "P(s' : 20 | s: 12, a : 00) = 0.33, Reward = 0.00\n",
            "P(s' : 11 | s: 12, a : 01) = 0.33, Reward = 0.00\n",
            "P(s' : 20 | s: 12, a : 01) = 0.33, Reward = 0.00\n",
            "P(s' : 13 | s: 12, a : 01) = 0.33, Reward = 0.00\n",
            "P(s' : 20 | s: 12, a : 02) = 0.33, Reward = 0.00\n",
            "P(s' : 13 | s: 12, a : 02) = 0.33, Reward = 0.00\n",
            "P(s' : 04 | s: 12, a : 02) = 0.33, Reward = 0.00\n",
            "P(s' : 13 | s: 12, a : 03) = 0.33, Reward = 0.00\n",
            "P(s' : 04 | s: 12, a : 03) = 0.33, Reward = 0.00\n",
            "P(s' : 11 | s: 12, a : 03) = 0.33, Reward = 0.00\n",
            "P(s' : 05 | s: 13, a : 00) = 0.33, Reward = 0.00\n",
            "P(s' : 12 | s: 13, a : 00) = 0.33, Reward = 0.00\n",
            "P(s' : 21 | s: 13, a : 00) = 0.33, Reward = 0.00\n",
            "P(s' : 12 | s: 13, a : 01) = 0.33, Reward = 0.00\n",
            "P(s' : 21 | s: 13, a : 01) = 0.33, Reward = 0.00\n",
            "P(s' : 14 | s: 13, a : 01) = 0.33, Reward = 0.00\n",
            "P(s' : 21 | s: 13, a : 02) = 0.33, Reward = 0.00\n",
            "P(s' : 14 | s: 13, a : 02) = 0.33, Reward = 0.00\n",
            "P(s' : 05 | s: 13, a : 02) = 0.33, Reward = 0.00\n",
            "P(s' : 14 | s: 13, a : 03) = 0.33, Reward = 0.00\n",
            "P(s' : 05 | s: 13, a : 03) = 0.33, Reward = 0.00\n",
            "P(s' : 12 | s: 13, a : 03) = 0.33, Reward = 0.00\n",
            "P(s' : 06 | s: 14, a : 00) = 0.33, Reward = 0.00\n",
            "P(s' : 13 | s: 14, a : 00) = 0.33, Reward = 0.00\n",
            "P(s' : 22 | s: 14, a : 00) = 0.33, Reward = 0.00\n",
            "P(s' : 13 | s: 14, a : 01) = 0.33, Reward = 0.00\n",
            "P(s' : 22 | s: 14, a : 01) = 0.33, Reward = 0.00\n",
            "P(s' : 15 | s: 14, a : 01) = 0.33, Reward = 0.00\n",
            "P(s' : 22 | s: 14, a : 02) = 0.33, Reward = 0.00\n",
            "P(s' : 15 | s: 14, a : 02) = 0.33, Reward = 0.00\n",
            "P(s' : 06 | s: 14, a : 02) = 0.33, Reward = 0.00\n",
            "P(s' : 15 | s: 14, a : 03) = 0.33, Reward = 0.00\n",
            "P(s' : 06 | s: 14, a : 03) = 0.33, Reward = 0.00\n",
            "P(s' : 13 | s: 14, a : 03) = 0.33, Reward = 0.00\n",
            "P(s' : 07 | s: 15, a : 00) = 0.33, Reward = 0.00\n",
            "P(s' : 14 | s: 15, a : 00) = 0.33, Reward = 0.00\n",
            "P(s' : 23 | s: 15, a : 00) = 0.33, Reward = 0.00\n",
            "P(s' : 14 | s: 15, a : 01) = 0.33, Reward = 0.00\n",
            "P(s' : 23 | s: 15, a : 01) = 0.33, Reward = 0.00\n",
            "P(s' : 15 | s: 15, a : 01) = 0.33, Reward = 0.00\n",
            "P(s' : 23 | s: 15, a : 02) = 0.33, Reward = 0.00\n",
            "P(s' : 15 | s: 15, a : 02) = 0.33, Reward = 0.00\n",
            "P(s' : 07 | s: 15, a : 02) = 0.33, Reward = 0.00\n",
            "P(s' : 15 | s: 15, a : 03) = 0.33, Reward = 0.00\n",
            "P(s' : 07 | s: 15, a : 03) = 0.33, Reward = 0.00\n",
            "P(s' : 14 | s: 15, a : 03) = 0.33, Reward = 0.00\n",
            "P(s' : 08 | s: 16, a : 00) = 0.33, Reward = 0.00\n",
            "P(s' : 16 | s: 16, a : 00) = 0.33, Reward = 0.00\n",
            "P(s' : 24 | s: 16, a : 00) = 0.33, Reward = 0.00\n",
            "P(s' : 16 | s: 16, a : 01) = 0.33, Reward = 0.00\n",
            "P(s' : 24 | s: 16, a : 01) = 0.33, Reward = 0.00\n",
            "P(s' : 17 | s: 16, a : 01) = 0.33, Reward = 0.00\n",
            "P(s' : 24 | s: 16, a : 02) = 0.33, Reward = 0.00\n",
            "P(s' : 17 | s: 16, a : 02) = 0.33, Reward = 0.00\n",
            "P(s' : 08 | s: 16, a : 02) = 0.33, Reward = 0.00\n",
            "P(s' : 17 | s: 16, a : 03) = 0.33, Reward = 0.00\n",
            "P(s' : 08 | s: 16, a : 03) = 0.33, Reward = 0.00\n",
            "P(s' : 16 | s: 16, a : 03) = 0.33, Reward = 0.00\n",
            "P(s' : 09 | s: 17, a : 00) = 0.33, Reward = 0.00\n",
            "P(s' : 16 | s: 17, a : 00) = 0.33, Reward = 0.00\n",
            "P(s' : 25 | s: 17, a : 00) = 0.33, Reward = 0.00\n",
            "P(s' : 16 | s: 17, a : 01) = 0.33, Reward = 0.00\n",
            "P(s' : 25 | s: 17, a : 01) = 0.33, Reward = 0.00\n",
            "P(s' : 18 | s: 17, a : 01) = 0.33, Reward = 0.00\n",
            "P(s' : 25 | s: 17, a : 02) = 0.33, Reward = 0.00\n",
            "P(s' : 18 | s: 17, a : 02) = 0.33, Reward = 0.00\n",
            "P(s' : 09 | s: 17, a : 02) = 0.33, Reward = 0.00\n",
            "P(s' : 18 | s: 17, a : 03) = 0.33, Reward = 0.00\n",
            "P(s' : 09 | s: 17, a : 03) = 0.33, Reward = 0.00\n",
            "P(s' : 16 | s: 17, a : 03) = 0.33, Reward = 0.00\n",
            "P(s' : 10 | s: 18, a : 00) = 0.33, Reward = 0.00\n",
            "P(s' : 17 | s: 18, a : 00) = 0.33, Reward = 0.00\n",
            "P(s' : 26 | s: 18, a : 00) = 0.33, Reward = 0.00\n",
            "P(s' : 17 | s: 18, a : 01) = 0.33, Reward = 0.00\n",
            "P(s' : 26 | s: 18, a : 01) = 0.33, Reward = 0.00\n",
            "P(s' : 19 | s: 18, a : 01) = 0.33, Reward = 0.00\n",
            "P(s' : 26 | s: 18, a : 02) = 0.33, Reward = 0.00\n",
            "P(s' : 19 | s: 18, a : 02) = 0.33, Reward = 0.00\n",
            "P(s' : 10 | s: 18, a : 02) = 0.33, Reward = 0.00\n",
            "P(s' : 19 | s: 18, a : 03) = 0.33, Reward = 0.00\n",
            "P(s' : 10 | s: 18, a : 03) = 0.33, Reward = 0.00\n",
            "P(s' : 17 | s: 18, a : 03) = 0.33, Reward = 0.00\n",
            "P(s' : 19 | s: 19, a : 00) = 1.00, Reward = 0.00\n",
            "P(s' : 19 | s: 19, a : 01) = 1.00, Reward = 0.00\n",
            "P(s' : 19 | s: 19, a : 02) = 1.00, Reward = 0.00\n",
            "P(s' : 19 | s: 19, a : 03) = 1.00, Reward = 0.00\n",
            "P(s' : 12 | s: 20, a : 00) = 0.33, Reward = 0.00\n",
            "P(s' : 19 | s: 20, a : 00) = 0.33, Reward = 0.00\n",
            "P(s' : 28 | s: 20, a : 00) = 0.33, Reward = 0.00\n",
            "P(s' : 19 | s: 20, a : 01) = 0.33, Reward = 0.00\n",
            "P(s' : 28 | s: 20, a : 01) = 0.33, Reward = 0.00\n",
            "P(s' : 21 | s: 20, a : 01) = 0.33, Reward = 0.00\n",
            "P(s' : 28 | s: 20, a : 02) = 0.33, Reward = 0.00\n",
            "P(s' : 21 | s: 20, a : 02) = 0.33, Reward = 0.00\n",
            "P(s' : 12 | s: 20, a : 02) = 0.33, Reward = 0.00\n",
            "P(s' : 21 | s: 20, a : 03) = 0.33, Reward = 0.00\n",
            "P(s' : 12 | s: 20, a : 03) = 0.33, Reward = 0.00\n",
            "P(s' : 19 | s: 20, a : 03) = 0.33, Reward = 0.00\n",
            "P(s' : 13 | s: 21, a : 00) = 0.33, Reward = 0.00\n",
            "P(s' : 20 | s: 21, a : 00) = 0.33, Reward = 0.00\n",
            "P(s' : 29 | s: 21, a : 00) = 0.33, Reward = 0.00\n",
            "P(s' : 20 | s: 21, a : 01) = 0.33, Reward = 0.00\n",
            "P(s' : 29 | s: 21, a : 01) = 0.33, Reward = 0.00\n",
            "P(s' : 22 | s: 21, a : 01) = 0.33, Reward = 0.00\n",
            "P(s' : 29 | s: 21, a : 02) = 0.33, Reward = 0.00\n",
            "P(s' : 22 | s: 21, a : 02) = 0.33, Reward = 0.00\n",
            "P(s' : 13 | s: 21, a : 02) = 0.33, Reward = 0.00\n",
            "P(s' : 22 | s: 21, a : 03) = 0.33, Reward = 0.00\n",
            "P(s' : 13 | s: 21, a : 03) = 0.33, Reward = 0.00\n",
            "P(s' : 20 | s: 21, a : 03) = 0.33, Reward = 0.00\n",
            "P(s' : 14 | s: 22, a : 00) = 0.33, Reward = 0.00\n",
            "P(s' : 21 | s: 22, a : 00) = 0.33, Reward = 0.00\n",
            "P(s' : 30 | s: 22, a : 00) = 0.33, Reward = 0.00\n",
            "P(s' : 21 | s: 22, a : 01) = 0.33, Reward = 0.00\n",
            "P(s' : 30 | s: 22, a : 01) = 0.33, Reward = 0.00\n",
            "P(s' : 23 | s: 22, a : 01) = 0.33, Reward = 0.00\n",
            "P(s' : 30 | s: 22, a : 02) = 0.33, Reward = 0.00\n",
            "P(s' : 23 | s: 22, a : 02) = 0.33, Reward = 0.00\n",
            "P(s' : 14 | s: 22, a : 02) = 0.33, Reward = 0.00\n",
            "P(s' : 23 | s: 22, a : 03) = 0.33, Reward = 0.00\n",
            "P(s' : 14 | s: 22, a : 03) = 0.33, Reward = 0.00\n",
            "P(s' : 21 | s: 22, a : 03) = 0.33, Reward = 0.00\n",
            "P(s' : 15 | s: 23, a : 00) = 0.33, Reward = 0.00\n",
            "P(s' : 22 | s: 23, a : 00) = 0.33, Reward = 0.00\n",
            "P(s' : 31 | s: 23, a : 00) = 0.33, Reward = 0.00\n",
            "P(s' : 22 | s: 23, a : 01) = 0.33, Reward = 0.00\n",
            "P(s' : 31 | s: 23, a : 01) = 0.33, Reward = 0.00\n",
            "P(s' : 23 | s: 23, a : 01) = 0.33, Reward = 0.00\n",
            "P(s' : 31 | s: 23, a : 02) = 0.33, Reward = 0.00\n",
            "P(s' : 23 | s: 23, a : 02) = 0.33, Reward = 0.00\n",
            "P(s' : 15 | s: 23, a : 02) = 0.33, Reward = 0.00\n",
            "P(s' : 23 | s: 23, a : 03) = 0.33, Reward = 0.00\n",
            "P(s' : 15 | s: 23, a : 03) = 0.33, Reward = 0.00\n",
            "P(s' : 22 | s: 23, a : 03) = 0.33, Reward = 0.00\n",
            "P(s' : 16 | s: 24, a : 00) = 0.33, Reward = 0.00\n",
            "P(s' : 24 | s: 24, a : 00) = 0.33, Reward = 0.00\n",
            "P(s' : 32 | s: 24, a : 00) = 0.33, Reward = 0.00\n",
            "P(s' : 24 | s: 24, a : 01) = 0.33, Reward = 0.00\n",
            "P(s' : 32 | s: 24, a : 01) = 0.33, Reward = 0.00\n",
            "P(s' : 25 | s: 24, a : 01) = 0.33, Reward = 0.00\n",
            "P(s' : 32 | s: 24, a : 02) = 0.33, Reward = 0.00\n",
            "P(s' : 25 | s: 24, a : 02) = 0.33, Reward = 0.00\n",
            "P(s' : 16 | s: 24, a : 02) = 0.33, Reward = 0.00\n",
            "P(s' : 25 | s: 24, a : 03) = 0.33, Reward = 0.00\n",
            "P(s' : 16 | s: 24, a : 03) = 0.33, Reward = 0.00\n",
            "P(s' : 24 | s: 24, a : 03) = 0.33, Reward = 0.00\n",
            "P(s' : 17 | s: 25, a : 00) = 0.33, Reward = 0.00\n",
            "P(s' : 24 | s: 25, a : 00) = 0.33, Reward = 0.00\n",
            "P(s' : 33 | s: 25, a : 00) = 0.33, Reward = 0.00\n",
            "P(s' : 24 | s: 25, a : 01) = 0.33, Reward = 0.00\n",
            "P(s' : 33 | s: 25, a : 01) = 0.33, Reward = 0.00\n",
            "P(s' : 26 | s: 25, a : 01) = 0.33, Reward = 0.00\n",
            "P(s' : 33 | s: 25, a : 02) = 0.33, Reward = 0.00\n",
            "P(s' : 26 | s: 25, a : 02) = 0.33, Reward = 0.00\n",
            "P(s' : 17 | s: 25, a : 02) = 0.33, Reward = 0.00\n",
            "P(s' : 26 | s: 25, a : 03) = 0.33, Reward = 0.00\n",
            "P(s' : 17 | s: 25, a : 03) = 0.33, Reward = 0.00\n",
            "P(s' : 24 | s: 25, a : 03) = 0.33, Reward = 0.00\n",
            "P(s' : 18 | s: 26, a : 00) = 0.33, Reward = 0.00\n",
            "P(s' : 25 | s: 26, a : 00) = 0.33, Reward = 0.00\n",
            "P(s' : 34 | s: 26, a : 00) = 0.33, Reward = 0.00\n",
            "P(s' : 25 | s: 26, a : 01) = 0.33, Reward = 0.00\n",
            "P(s' : 34 | s: 26, a : 01) = 0.33, Reward = 0.00\n",
            "P(s' : 27 | s: 26, a : 01) = 0.33, Reward = 0.00\n",
            "P(s' : 34 | s: 26, a : 02) = 0.33, Reward = 0.00\n",
            "P(s' : 27 | s: 26, a : 02) = 0.33, Reward = 0.00\n",
            "P(s' : 18 | s: 26, a : 02) = 0.33, Reward = 0.00\n",
            "P(s' : 27 | s: 26, a : 03) = 0.33, Reward = 0.00\n",
            "P(s' : 18 | s: 26, a : 03) = 0.33, Reward = 0.00\n",
            "P(s' : 25 | s: 26, a : 03) = 0.33, Reward = 0.00\n",
            "P(s' : 19 | s: 27, a : 00) = 0.33, Reward = 0.00\n",
            "P(s' : 26 | s: 27, a : 00) = 0.33, Reward = 0.00\n",
            "P(s' : 35 | s: 27, a : 00) = 0.33, Reward = 0.00\n",
            "P(s' : 26 | s: 27, a : 01) = 0.33, Reward = 0.00\n",
            "P(s' : 35 | s: 27, a : 01) = 0.33, Reward = 0.00\n",
            "P(s' : 28 | s: 27, a : 01) = 0.33, Reward = 0.00\n",
            "P(s' : 35 | s: 27, a : 02) = 0.33, Reward = 0.00\n",
            "P(s' : 28 | s: 27, a : 02) = 0.33, Reward = 0.00\n",
            "P(s' : 19 | s: 27, a : 02) = 0.33, Reward = 0.00\n",
            "P(s' : 28 | s: 27, a : 03) = 0.33, Reward = 0.00\n",
            "P(s' : 19 | s: 27, a : 03) = 0.33, Reward = 0.00\n",
            "P(s' : 26 | s: 27, a : 03) = 0.33, Reward = 0.00\n",
            "P(s' : 20 | s: 28, a : 00) = 0.33, Reward = 0.00\n",
            "P(s' : 27 | s: 28, a : 00) = 0.33, Reward = 0.00\n",
            "P(s' : 36 | s: 28, a : 00) = 0.33, Reward = 0.00\n",
            "P(s' : 27 | s: 28, a : 01) = 0.33, Reward = 0.00\n",
            "P(s' : 36 | s: 28, a : 01) = 0.33, Reward = 0.00\n",
            "P(s' : 29 | s: 28, a : 01) = 0.33, Reward = 0.00\n",
            "P(s' : 36 | s: 28, a : 02) = 0.33, Reward = 0.00\n",
            "P(s' : 29 | s: 28, a : 02) = 0.33, Reward = 0.00\n",
            "P(s' : 20 | s: 28, a : 02) = 0.33, Reward = 0.00\n",
            "P(s' : 29 | s: 28, a : 03) = 0.33, Reward = 0.00\n",
            "P(s' : 20 | s: 28, a : 03) = 0.33, Reward = 0.00\n",
            "P(s' : 27 | s: 28, a : 03) = 0.33, Reward = 0.00\n",
            "P(s' : 29 | s: 29, a : 00) = 1.00, Reward = 0.00\n",
            "P(s' : 29 | s: 29, a : 01) = 1.00, Reward = 0.00\n",
            "P(s' : 29 | s: 29, a : 02) = 1.00, Reward = 0.00\n",
            "P(s' : 29 | s: 29, a : 03) = 1.00, Reward = 0.00\n",
            "P(s' : 22 | s: 30, a : 00) = 0.33, Reward = 0.00\n",
            "P(s' : 29 | s: 30, a : 00) = 0.33, Reward = 0.00\n",
            "P(s' : 38 | s: 30, a : 00) = 0.33, Reward = 0.00\n",
            "P(s' : 29 | s: 30, a : 01) = 0.33, Reward = 0.00\n",
            "P(s' : 38 | s: 30, a : 01) = 0.33, Reward = 0.00\n",
            "P(s' : 31 | s: 30, a : 01) = 0.33, Reward = 0.00\n",
            "P(s' : 38 | s: 30, a : 02) = 0.33, Reward = 0.00\n",
            "P(s' : 31 | s: 30, a : 02) = 0.33, Reward = 0.00\n",
            "P(s' : 22 | s: 30, a : 02) = 0.33, Reward = 0.00\n",
            "P(s' : 31 | s: 30, a : 03) = 0.33, Reward = 0.00\n",
            "P(s' : 22 | s: 30, a : 03) = 0.33, Reward = 0.00\n",
            "P(s' : 29 | s: 30, a : 03) = 0.33, Reward = 0.00\n",
            "P(s' : 23 | s: 31, a : 00) = 0.33, Reward = 0.00\n",
            "P(s' : 30 | s: 31, a : 00) = 0.33, Reward = 0.00\n",
            "P(s' : 39 | s: 31, a : 00) = 0.33, Reward = 0.00\n",
            "P(s' : 30 | s: 31, a : 01) = 0.33, Reward = 0.00\n",
            "P(s' : 39 | s: 31, a : 01) = 0.33, Reward = 0.00\n",
            "P(s' : 31 | s: 31, a : 01) = 0.33, Reward = 0.00\n",
            "P(s' : 39 | s: 31, a : 02) = 0.33, Reward = 0.00\n",
            "P(s' : 31 | s: 31, a : 02) = 0.33, Reward = 0.00\n",
            "P(s' : 23 | s: 31, a : 02) = 0.33, Reward = 0.00\n",
            "P(s' : 31 | s: 31, a : 03) = 0.33, Reward = 0.00\n",
            "P(s' : 23 | s: 31, a : 03) = 0.33, Reward = 0.00\n",
            "P(s' : 30 | s: 31, a : 03) = 0.33, Reward = 0.00\n",
            "P(s' : 24 | s: 32, a : 00) = 0.33, Reward = 0.00\n",
            "P(s' : 32 | s: 32, a : 00) = 0.33, Reward = 0.00\n",
            "P(s' : 40 | s: 32, a : 00) = 0.33, Reward = 0.00\n",
            "P(s' : 32 | s: 32, a : 01) = 0.33, Reward = 0.00\n",
            "P(s' : 40 | s: 32, a : 01) = 0.33, Reward = 0.00\n",
            "P(s' : 33 | s: 32, a : 01) = 0.33, Reward = 0.00\n",
            "P(s' : 40 | s: 32, a : 02) = 0.33, Reward = 0.00\n",
            "P(s' : 33 | s: 32, a : 02) = 0.33, Reward = 0.00\n",
            "P(s' : 24 | s: 32, a : 02) = 0.33, Reward = 0.00\n",
            "P(s' : 33 | s: 32, a : 03) = 0.33, Reward = 0.00\n",
            "P(s' : 24 | s: 32, a : 03) = 0.33, Reward = 0.00\n",
            "P(s' : 32 | s: 32, a : 03) = 0.33, Reward = 0.00\n",
            "P(s' : 25 | s: 33, a : 00) = 0.33, Reward = 0.00\n",
            "P(s' : 32 | s: 33, a : 00) = 0.33, Reward = 0.00\n",
            "P(s' : 41 | s: 33, a : 00) = 0.33, Reward = 0.00\n",
            "P(s' : 32 | s: 33, a : 01) = 0.33, Reward = 0.00\n",
            "P(s' : 41 | s: 33, a : 01) = 0.33, Reward = 0.00\n",
            "P(s' : 34 | s: 33, a : 01) = 0.33, Reward = 0.00\n",
            "P(s' : 41 | s: 33, a : 02) = 0.33, Reward = 0.00\n",
            "P(s' : 34 | s: 33, a : 02) = 0.33, Reward = 0.00\n",
            "P(s' : 25 | s: 33, a : 02) = 0.33, Reward = 0.00\n",
            "P(s' : 34 | s: 33, a : 03) = 0.33, Reward = 0.00\n",
            "P(s' : 25 | s: 33, a : 03) = 0.33, Reward = 0.00\n",
            "P(s' : 32 | s: 33, a : 03) = 0.33, Reward = 0.00\n",
            "P(s' : 26 | s: 34, a : 00) = 0.33, Reward = 0.00\n",
            "P(s' : 33 | s: 34, a : 00) = 0.33, Reward = 0.00\n",
            "P(s' : 42 | s: 34, a : 00) = 0.33, Reward = 0.00\n",
            "P(s' : 33 | s: 34, a : 01) = 0.33, Reward = 0.00\n",
            "P(s' : 42 | s: 34, a : 01) = 0.33, Reward = 0.00\n",
            "P(s' : 35 | s: 34, a : 01) = 0.33, Reward = 0.00\n",
            "P(s' : 42 | s: 34, a : 02) = 0.33, Reward = 0.00\n",
            "P(s' : 35 | s: 34, a : 02) = 0.33, Reward = 0.00\n",
            "P(s' : 26 | s: 34, a : 02) = 0.33, Reward = 0.00\n",
            "P(s' : 35 | s: 34, a : 03) = 0.33, Reward = 0.00\n",
            "P(s' : 26 | s: 34, a : 03) = 0.33, Reward = 0.00\n",
            "P(s' : 33 | s: 34, a : 03) = 0.33, Reward = 0.00\n",
            "P(s' : 35 | s: 35, a : 00) = 1.00, Reward = 0.00\n",
            "P(s' : 35 | s: 35, a : 01) = 1.00, Reward = 0.00\n",
            "P(s' : 35 | s: 35, a : 02) = 1.00, Reward = 0.00\n",
            "P(s' : 35 | s: 35, a : 03) = 1.00, Reward = 0.00\n",
            "P(s' : 28 | s: 36, a : 00) = 0.33, Reward = 0.00\n",
            "P(s' : 35 | s: 36, a : 00) = 0.33, Reward = 0.00\n",
            "P(s' : 44 | s: 36, a : 00) = 0.33, Reward = 0.00\n",
            "P(s' : 35 | s: 36, a : 01) = 0.33, Reward = 0.00\n",
            "P(s' : 44 | s: 36, a : 01) = 0.33, Reward = 0.00\n",
            "P(s' : 37 | s: 36, a : 01) = 0.33, Reward = 0.00\n",
            "P(s' : 44 | s: 36, a : 02) = 0.33, Reward = 0.00\n",
            "P(s' : 37 | s: 36, a : 02) = 0.33, Reward = 0.00\n",
            "P(s' : 28 | s: 36, a : 02) = 0.33, Reward = 0.00\n",
            "P(s' : 37 | s: 36, a : 03) = 0.33, Reward = 0.00\n",
            "P(s' : 28 | s: 36, a : 03) = 0.33, Reward = 0.00\n",
            "P(s' : 35 | s: 36, a : 03) = 0.33, Reward = 0.00\n",
            "P(s' : 29 | s: 37, a : 00) = 0.33, Reward = 0.00\n",
            "P(s' : 36 | s: 37, a : 00) = 0.33, Reward = 0.00\n",
            "P(s' : 45 | s: 37, a : 00) = 0.33, Reward = 0.00\n",
            "P(s' : 36 | s: 37, a : 01) = 0.33, Reward = 0.00\n",
            "P(s' : 45 | s: 37, a : 01) = 0.33, Reward = 0.00\n",
            "P(s' : 38 | s: 37, a : 01) = 0.33, Reward = 0.00\n",
            "P(s' : 45 | s: 37, a : 02) = 0.33, Reward = 0.00\n",
            "P(s' : 38 | s: 37, a : 02) = 0.33, Reward = 0.00\n",
            "P(s' : 29 | s: 37, a : 02) = 0.33, Reward = 0.00\n",
            "P(s' : 38 | s: 37, a : 03) = 0.33, Reward = 0.00\n",
            "P(s' : 29 | s: 37, a : 03) = 0.33, Reward = 0.00\n",
            "P(s' : 36 | s: 37, a : 03) = 0.33, Reward = 0.00\n",
            "P(s' : 30 | s: 38, a : 00) = 0.33, Reward = 0.00\n",
            "P(s' : 37 | s: 38, a : 00) = 0.33, Reward = 0.00\n",
            "P(s' : 46 | s: 38, a : 00) = 0.33, Reward = 0.00\n",
            "P(s' : 37 | s: 38, a : 01) = 0.33, Reward = 0.00\n",
            "P(s' : 46 | s: 38, a : 01) = 0.33, Reward = 0.00\n",
            "P(s' : 39 | s: 38, a : 01) = 0.33, Reward = 0.00\n",
            "P(s' : 46 | s: 38, a : 02) = 0.33, Reward = 0.00\n",
            "P(s' : 39 | s: 38, a : 02) = 0.33, Reward = 0.00\n",
            "P(s' : 30 | s: 38, a : 02) = 0.33, Reward = 0.00\n",
            "P(s' : 39 | s: 38, a : 03) = 0.33, Reward = 0.00\n",
            "P(s' : 30 | s: 38, a : 03) = 0.33, Reward = 0.00\n",
            "P(s' : 37 | s: 38, a : 03) = 0.33, Reward = 0.00\n",
            "P(s' : 31 | s: 39, a : 00) = 0.33, Reward = 0.00\n",
            "P(s' : 38 | s: 39, a : 00) = 0.33, Reward = 0.00\n",
            "P(s' : 47 | s: 39, a : 00) = 0.33, Reward = 0.00\n",
            "P(s' : 38 | s: 39, a : 01) = 0.33, Reward = 0.00\n",
            "P(s' : 47 | s: 39, a : 01) = 0.33, Reward = 0.00\n",
            "P(s' : 39 | s: 39, a : 01) = 0.33, Reward = 0.00\n",
            "P(s' : 47 | s: 39, a : 02) = 0.33, Reward = 0.00\n",
            "P(s' : 39 | s: 39, a : 02) = 0.33, Reward = 0.00\n",
            "P(s' : 31 | s: 39, a : 02) = 0.33, Reward = 0.00\n",
            "P(s' : 39 | s: 39, a : 03) = 0.33, Reward = 0.00\n",
            "P(s' : 31 | s: 39, a : 03) = 0.33, Reward = 0.00\n",
            "P(s' : 38 | s: 39, a : 03) = 0.33, Reward = 0.00\n",
            "P(s' : 32 | s: 40, a : 00) = 0.33, Reward = 0.00\n",
            "P(s' : 40 | s: 40, a : 00) = 0.33, Reward = 0.00\n",
            "P(s' : 48 | s: 40, a : 00) = 0.33, Reward = 0.00\n",
            "P(s' : 40 | s: 40, a : 01) = 0.33, Reward = 0.00\n",
            "P(s' : 48 | s: 40, a : 01) = 0.33, Reward = 0.00\n",
            "P(s' : 41 | s: 40, a : 01) = 0.33, Reward = 0.00\n",
            "P(s' : 48 | s: 40, a : 02) = 0.33, Reward = 0.00\n",
            "P(s' : 41 | s: 40, a : 02) = 0.33, Reward = 0.00\n",
            "P(s' : 32 | s: 40, a : 02) = 0.33, Reward = 0.00\n",
            "P(s' : 41 | s: 40, a : 03) = 0.33, Reward = 0.00\n",
            "P(s' : 32 | s: 40, a : 03) = 0.33, Reward = 0.00\n",
            "P(s' : 40 | s: 40, a : 03) = 0.33, Reward = 0.00\n",
            "P(s' : 41 | s: 41, a : 00) = 1.00, Reward = 0.00\n",
            "P(s' : 41 | s: 41, a : 01) = 1.00, Reward = 0.00\n",
            "P(s' : 41 | s: 41, a : 02) = 1.00, Reward = 0.00\n",
            "P(s' : 41 | s: 41, a : 03) = 1.00, Reward = 0.00\n",
            "P(s' : 42 | s: 42, a : 00) = 1.00, Reward = 0.00\n",
            "P(s' : 42 | s: 42, a : 01) = 1.00, Reward = 0.00\n",
            "P(s' : 42 | s: 42, a : 02) = 1.00, Reward = 0.00\n",
            "P(s' : 42 | s: 42, a : 03) = 1.00, Reward = 0.00\n",
            "P(s' : 35 | s: 43, a : 00) = 0.33, Reward = 0.00\n",
            "P(s' : 42 | s: 43, a : 00) = 0.33, Reward = 0.00\n",
            "P(s' : 51 | s: 43, a : 00) = 0.33, Reward = 0.00\n",
            "P(s' : 42 | s: 43, a : 01) = 0.33, Reward = 0.00\n",
            "P(s' : 51 | s: 43, a : 01) = 0.33, Reward = 0.00\n",
            "P(s' : 44 | s: 43, a : 01) = 0.33, Reward = 0.00\n",
            "P(s' : 51 | s: 43, a : 02) = 0.33, Reward = 0.00\n",
            "P(s' : 44 | s: 43, a : 02) = 0.33, Reward = 0.00\n",
            "P(s' : 35 | s: 43, a : 02) = 0.33, Reward = 0.00\n",
            "P(s' : 44 | s: 43, a : 03) = 0.33, Reward = 0.00\n",
            "P(s' : 35 | s: 43, a : 03) = 0.33, Reward = 0.00\n",
            "P(s' : 42 | s: 43, a : 03) = 0.33, Reward = 0.00\n",
            "P(s' : 36 | s: 44, a : 00) = 0.33, Reward = 0.00\n",
            "P(s' : 43 | s: 44, a : 00) = 0.33, Reward = 0.00\n",
            "P(s' : 52 | s: 44, a : 00) = 0.33, Reward = 0.00\n",
            "P(s' : 43 | s: 44, a : 01) = 0.33, Reward = 0.00\n",
            "P(s' : 52 | s: 44, a : 01) = 0.33, Reward = 0.00\n",
            "P(s' : 45 | s: 44, a : 01) = 0.33, Reward = 0.00\n",
            "P(s' : 52 | s: 44, a : 02) = 0.33, Reward = 0.00\n",
            "P(s' : 45 | s: 44, a : 02) = 0.33, Reward = 0.00\n",
            "P(s' : 36 | s: 44, a : 02) = 0.33, Reward = 0.00\n",
            "P(s' : 45 | s: 44, a : 03) = 0.33, Reward = 0.00\n",
            "P(s' : 36 | s: 44, a : 03) = 0.33, Reward = 0.00\n",
            "P(s' : 43 | s: 44, a : 03) = 0.33, Reward = 0.00\n",
            "P(s' : 37 | s: 45, a : 00) = 0.33, Reward = 0.00\n",
            "P(s' : 44 | s: 45, a : 00) = 0.33, Reward = 0.00\n",
            "P(s' : 53 | s: 45, a : 00) = 0.33, Reward = 0.00\n",
            "P(s' : 44 | s: 45, a : 01) = 0.33, Reward = 0.00\n",
            "P(s' : 53 | s: 45, a : 01) = 0.33, Reward = 0.00\n",
            "P(s' : 46 | s: 45, a : 01) = 0.33, Reward = 0.00\n",
            "P(s' : 53 | s: 45, a : 02) = 0.33, Reward = 0.00\n",
            "P(s' : 46 | s: 45, a : 02) = 0.33, Reward = 0.00\n",
            "P(s' : 37 | s: 45, a : 02) = 0.33, Reward = 0.00\n",
            "P(s' : 46 | s: 45, a : 03) = 0.33, Reward = 0.00\n",
            "P(s' : 37 | s: 45, a : 03) = 0.33, Reward = 0.00\n",
            "P(s' : 44 | s: 45, a : 03) = 0.33, Reward = 0.00\n",
            "P(s' : 46 | s: 46, a : 00) = 1.00, Reward = 0.00\n",
            "P(s' : 46 | s: 46, a : 01) = 1.00, Reward = 0.00\n",
            "P(s' : 46 | s: 46, a : 02) = 1.00, Reward = 0.00\n",
            "P(s' : 46 | s: 46, a : 03) = 1.00, Reward = 0.00\n",
            "P(s' : 39 | s: 47, a : 00) = 0.33, Reward = 0.00\n",
            "P(s' : 46 | s: 47, a : 00) = 0.33, Reward = 0.00\n",
            "P(s' : 55 | s: 47, a : 00) = 0.33, Reward = 0.00\n",
            "P(s' : 46 | s: 47, a : 01) = 0.33, Reward = 0.00\n",
            "P(s' : 55 | s: 47, a : 01) = 0.33, Reward = 0.00\n",
            "P(s' : 47 | s: 47, a : 01) = 0.33, Reward = 0.00\n",
            "P(s' : 55 | s: 47, a : 02) = 0.33, Reward = 0.00\n",
            "P(s' : 47 | s: 47, a : 02) = 0.33, Reward = 0.00\n",
            "P(s' : 39 | s: 47, a : 02) = 0.33, Reward = 0.00\n",
            "P(s' : 47 | s: 47, a : 03) = 0.33, Reward = 0.00\n",
            "P(s' : 39 | s: 47, a : 03) = 0.33, Reward = 0.00\n",
            "P(s' : 46 | s: 47, a : 03) = 0.33, Reward = 0.00\n",
            "P(s' : 40 | s: 48, a : 00) = 0.33, Reward = 0.00\n",
            "P(s' : 48 | s: 48, a : 00) = 0.33, Reward = 0.00\n",
            "P(s' : 56 | s: 48, a : 00) = 0.33, Reward = 0.00\n",
            "P(s' : 48 | s: 48, a : 01) = 0.33, Reward = 0.00\n",
            "P(s' : 56 | s: 48, a : 01) = 0.33, Reward = 0.00\n",
            "P(s' : 49 | s: 48, a : 01) = 0.33, Reward = 0.00\n",
            "P(s' : 56 | s: 48, a : 02) = 0.33, Reward = 0.00\n",
            "P(s' : 49 | s: 48, a : 02) = 0.33, Reward = 0.00\n",
            "P(s' : 40 | s: 48, a : 02) = 0.33, Reward = 0.00\n",
            "P(s' : 49 | s: 48, a : 03) = 0.33, Reward = 0.00\n",
            "P(s' : 40 | s: 48, a : 03) = 0.33, Reward = 0.00\n",
            "P(s' : 48 | s: 48, a : 03) = 0.33, Reward = 0.00\n",
            "P(s' : 49 | s: 49, a : 00) = 1.00, Reward = 0.00\n",
            "P(s' : 49 | s: 49, a : 01) = 1.00, Reward = 0.00\n",
            "P(s' : 49 | s: 49, a : 02) = 1.00, Reward = 0.00\n",
            "P(s' : 49 | s: 49, a : 03) = 1.00, Reward = 0.00\n",
            "P(s' : 42 | s: 50, a : 00) = 0.33, Reward = 0.00\n",
            "P(s' : 49 | s: 50, a : 00) = 0.33, Reward = 0.00\n",
            "P(s' : 58 | s: 50, a : 00) = 0.33, Reward = 0.00\n",
            "P(s' : 49 | s: 50, a : 01) = 0.33, Reward = 0.00\n",
            "P(s' : 58 | s: 50, a : 01) = 0.33, Reward = 0.00\n",
            "P(s' : 51 | s: 50, a : 01) = 0.33, Reward = 0.00\n",
            "P(s' : 58 | s: 50, a : 02) = 0.33, Reward = 0.00\n",
            "P(s' : 51 | s: 50, a : 02) = 0.33, Reward = 0.00\n",
            "P(s' : 42 | s: 50, a : 02) = 0.33, Reward = 0.00\n",
            "P(s' : 51 | s: 50, a : 03) = 0.33, Reward = 0.00\n",
            "P(s' : 42 | s: 50, a : 03) = 0.33, Reward = 0.00\n",
            "P(s' : 49 | s: 50, a : 03) = 0.33, Reward = 0.00\n",
            "P(s' : 43 | s: 51, a : 00) = 0.33, Reward = 0.00\n",
            "P(s' : 50 | s: 51, a : 00) = 0.33, Reward = 0.00\n",
            "P(s' : 59 | s: 51, a : 00) = 0.33, Reward = 0.00\n",
            "P(s' : 50 | s: 51, a : 01) = 0.33, Reward = 0.00\n",
            "P(s' : 59 | s: 51, a : 01) = 0.33, Reward = 0.00\n",
            "P(s' : 52 | s: 51, a : 01) = 0.33, Reward = 0.00\n",
            "P(s' : 59 | s: 51, a : 02) = 0.33, Reward = 0.00\n",
            "P(s' : 52 | s: 51, a : 02) = 0.33, Reward = 0.00\n",
            "P(s' : 43 | s: 51, a : 02) = 0.33, Reward = 0.00\n",
            "P(s' : 52 | s: 51, a : 03) = 0.33, Reward = 0.00\n",
            "P(s' : 43 | s: 51, a : 03) = 0.33, Reward = 0.00\n",
            "P(s' : 50 | s: 51, a : 03) = 0.33, Reward = 0.00\n",
            "P(s' : 52 | s: 52, a : 00) = 1.00, Reward = 0.00\n",
            "P(s' : 52 | s: 52, a : 01) = 1.00, Reward = 0.00\n",
            "P(s' : 52 | s: 52, a : 02) = 1.00, Reward = 0.00\n",
            "P(s' : 52 | s: 52, a : 03) = 1.00, Reward = 0.00\n",
            "P(s' : 45 | s: 53, a : 00) = 0.33, Reward = 0.00\n",
            "P(s' : 52 | s: 53, a : 00) = 0.33, Reward = 0.00\n",
            "P(s' : 61 | s: 53, a : 00) = 0.33, Reward = 0.00\n",
            "P(s' : 52 | s: 53, a : 01) = 0.33, Reward = 0.00\n",
            "P(s' : 61 | s: 53, a : 01) = 0.33, Reward = 0.00\n",
            "P(s' : 54 | s: 53, a : 01) = 0.33, Reward = 0.00\n",
            "P(s' : 61 | s: 53, a : 02) = 0.33, Reward = 0.00\n",
            "P(s' : 54 | s: 53, a : 02) = 0.33, Reward = 0.00\n",
            "P(s' : 45 | s: 53, a : 02) = 0.33, Reward = 0.00\n",
            "P(s' : 54 | s: 53, a : 03) = 0.33, Reward = 0.00\n",
            "P(s' : 45 | s: 53, a : 03) = 0.33, Reward = 0.00\n",
            "P(s' : 52 | s: 53, a : 03) = 0.33, Reward = 0.00\n",
            "P(s' : 54 | s: 54, a : 00) = 1.00, Reward = 0.00\n",
            "P(s' : 54 | s: 54, a : 01) = 1.00, Reward = 0.00\n",
            "P(s' : 54 | s: 54, a : 02) = 1.00, Reward = 0.00\n",
            "P(s' : 54 | s: 54, a : 03) = 1.00, Reward = 0.00\n",
            "P(s' : 47 | s: 55, a : 00) = 0.33, Reward = 0.00\n",
            "P(s' : 54 | s: 55, a : 00) = 0.33, Reward = 0.00\n",
            "P(s' : 63 | s: 55, a : 00) = 0.33, Reward = 1.00\n",
            "P(s' : 54 | s: 55, a : 01) = 0.33, Reward = 0.00\n",
            "P(s' : 63 | s: 55, a : 01) = 0.33, Reward = 1.00\n",
            "P(s' : 55 | s: 55, a : 01) = 0.33, Reward = 0.00\n",
            "P(s' : 63 | s: 55, a : 02) = 0.33, Reward = 1.00\n",
            "P(s' : 55 | s: 55, a : 02) = 0.33, Reward = 0.00\n",
            "P(s' : 47 | s: 55, a : 02) = 0.33, Reward = 0.00\n",
            "P(s' : 55 | s: 55, a : 03) = 0.33, Reward = 0.00\n",
            "P(s' : 47 | s: 55, a : 03) = 0.33, Reward = 0.00\n",
            "P(s' : 54 | s: 55, a : 03) = 0.33, Reward = 0.00\n",
            "P(s' : 48 | s: 56, a : 00) = 0.33, Reward = 0.00\n",
            "P(s' : 56 | s: 56, a : 00) = 0.33, Reward = 0.00\n",
            "P(s' : 56 | s: 56, a : 00) = 0.33, Reward = 0.00\n",
            "P(s' : 56 | s: 56, a : 01) = 0.33, Reward = 0.00\n",
            "P(s' : 56 | s: 56, a : 01) = 0.33, Reward = 0.00\n",
            "P(s' : 57 | s: 56, a : 01) = 0.33, Reward = 0.00\n",
            "P(s' : 56 | s: 56, a : 02) = 0.33, Reward = 0.00\n",
            "P(s' : 57 | s: 56, a : 02) = 0.33, Reward = 0.00\n",
            "P(s' : 48 | s: 56, a : 02) = 0.33, Reward = 0.00\n",
            "P(s' : 57 | s: 56, a : 03) = 0.33, Reward = 0.00\n",
            "P(s' : 48 | s: 56, a : 03) = 0.33, Reward = 0.00\n",
            "P(s' : 56 | s: 56, a : 03) = 0.33, Reward = 0.00\n",
            "P(s' : 49 | s: 57, a : 00) = 0.33, Reward = 0.00\n",
            "P(s' : 56 | s: 57, a : 00) = 0.33, Reward = 0.00\n",
            "P(s' : 57 | s: 57, a : 00) = 0.33, Reward = 0.00\n",
            "P(s' : 56 | s: 57, a : 01) = 0.33, Reward = 0.00\n",
            "P(s' : 57 | s: 57, a : 01) = 0.33, Reward = 0.00\n",
            "P(s' : 58 | s: 57, a : 01) = 0.33, Reward = 0.00\n",
            "P(s' : 57 | s: 57, a : 02) = 0.33, Reward = 0.00\n",
            "P(s' : 58 | s: 57, a : 02) = 0.33, Reward = 0.00\n",
            "P(s' : 49 | s: 57, a : 02) = 0.33, Reward = 0.00\n",
            "P(s' : 58 | s: 57, a : 03) = 0.33, Reward = 0.00\n",
            "P(s' : 49 | s: 57, a : 03) = 0.33, Reward = 0.00\n",
            "P(s' : 56 | s: 57, a : 03) = 0.33, Reward = 0.00\n",
            "P(s' : 50 | s: 58, a : 00) = 0.33, Reward = 0.00\n",
            "P(s' : 57 | s: 58, a : 00) = 0.33, Reward = 0.00\n",
            "P(s' : 58 | s: 58, a : 00) = 0.33, Reward = 0.00\n",
            "P(s' : 57 | s: 58, a : 01) = 0.33, Reward = 0.00\n",
            "P(s' : 58 | s: 58, a : 01) = 0.33, Reward = 0.00\n",
            "P(s' : 59 | s: 58, a : 01) = 0.33, Reward = 0.00\n",
            "P(s' : 58 | s: 58, a : 02) = 0.33, Reward = 0.00\n",
            "P(s' : 59 | s: 58, a : 02) = 0.33, Reward = 0.00\n",
            "P(s' : 50 | s: 58, a : 02) = 0.33, Reward = 0.00\n",
            "P(s' : 59 | s: 58, a : 03) = 0.33, Reward = 0.00\n",
            "P(s' : 50 | s: 58, a : 03) = 0.33, Reward = 0.00\n",
            "P(s' : 57 | s: 58, a : 03) = 0.33, Reward = 0.00\n",
            "P(s' : 59 | s: 59, a : 00) = 1.00, Reward = 0.00\n",
            "P(s' : 59 | s: 59, a : 01) = 1.00, Reward = 0.00\n",
            "P(s' : 59 | s: 59, a : 02) = 1.00, Reward = 0.00\n",
            "P(s' : 59 | s: 59, a : 03) = 1.00, Reward = 0.00\n",
            "P(s' : 52 | s: 60, a : 00) = 0.33, Reward = 0.00\n",
            "P(s' : 59 | s: 60, a : 00) = 0.33, Reward = 0.00\n",
            "P(s' : 60 | s: 60, a : 00) = 0.33, Reward = 0.00\n",
            "P(s' : 59 | s: 60, a : 01) = 0.33, Reward = 0.00\n",
            "P(s' : 60 | s: 60, a : 01) = 0.33, Reward = 0.00\n",
            "P(s' : 61 | s: 60, a : 01) = 0.33, Reward = 0.00\n",
            "P(s' : 60 | s: 60, a : 02) = 0.33, Reward = 0.00\n",
            "P(s' : 61 | s: 60, a : 02) = 0.33, Reward = 0.00\n",
            "P(s' : 52 | s: 60, a : 02) = 0.33, Reward = 0.00\n",
            "P(s' : 61 | s: 60, a : 03) = 0.33, Reward = 0.00\n",
            "P(s' : 52 | s: 60, a : 03) = 0.33, Reward = 0.00\n",
            "P(s' : 59 | s: 60, a : 03) = 0.33, Reward = 0.00\n",
            "P(s' : 53 | s: 61, a : 00) = 0.33, Reward = 0.00\n",
            "P(s' : 60 | s: 61, a : 00) = 0.33, Reward = 0.00\n",
            "P(s' : 61 | s: 61, a : 00) = 0.33, Reward = 0.00\n",
            "P(s' : 60 | s: 61, a : 01) = 0.33, Reward = 0.00\n",
            "P(s' : 61 | s: 61, a : 01) = 0.33, Reward = 0.00\n",
            "P(s' : 62 | s: 61, a : 01) = 0.33, Reward = 0.00\n",
            "P(s' : 61 | s: 61, a : 02) = 0.33, Reward = 0.00\n",
            "P(s' : 62 | s: 61, a : 02) = 0.33, Reward = 0.00\n",
            "P(s' : 53 | s: 61, a : 02) = 0.33, Reward = 0.00\n",
            "P(s' : 62 | s: 61, a : 03) = 0.33, Reward = 0.00\n",
            "P(s' : 53 | s: 61, a : 03) = 0.33, Reward = 0.00\n",
            "P(s' : 60 | s: 61, a : 03) = 0.33, Reward = 0.00\n",
            "P(s' : 54 | s: 62, a : 00) = 0.33, Reward = 0.00\n",
            "P(s' : 61 | s: 62, a : 00) = 0.33, Reward = 0.00\n",
            "P(s' : 62 | s: 62, a : 00) = 0.33, Reward = 0.00\n",
            "P(s' : 61 | s: 62, a : 01) = 0.33, Reward = 0.00\n",
            "P(s' : 62 | s: 62, a : 01) = 0.33, Reward = 0.00\n",
            "P(s' : 63 | s: 62, a : 01) = 0.33, Reward = 1.00\n",
            "P(s' : 62 | s: 62, a : 02) = 0.33, Reward = 0.00\n",
            "P(s' : 63 | s: 62, a : 02) = 0.33, Reward = 1.00\n",
            "P(s' : 54 | s: 62, a : 02) = 0.33, Reward = 0.00\n",
            "P(s' : 63 | s: 62, a : 03) = 0.33, Reward = 1.00\n",
            "P(s' : 54 | s: 62, a : 03) = 0.33, Reward = 0.00\n",
            "P(s' : 61 | s: 62, a : 03) = 0.33, Reward = 0.00\n",
            "P(s' : 63 | s: 63, a : 00) = 1.00, Reward = 0.00\n",
            "P(s' : 63 | s: 63, a : 01) = 1.00, Reward = 0.00\n",
            "P(s' : 63 | s: 63, a : 02) = 1.00, Reward = 0.00\n",
            "P(s' : 63 | s: 63, a : 03) = 1.00, Reward = 0.00\n"
          ]
        }
      ],
      "source": [
        "P = env.unwrapped.P\n",
        "\n",
        "# for all states\n",
        "for s in P.keys():\n",
        "    # for all actions\n",
        "    for a in P[s].keys():\n",
        "        for (prob, s_prime, rwd, _) in P[s][a]:\n",
        "            print(\"P(s' : %02d | s: %02d, a : %02d) = %.2f, Reward = %.2f\" % (s_prime, s, a, prob, rwd))"
      ]
    },
    {
      "cell_type": "code",
      "execution_count": null,
      "metadata": {},
      "outputs": [],
      "source": []
    },
    {
      "cell_type": "code",
      "execution_count": null,
      "metadata": {
        "id": "mKzArs-_tkbs"
      },
      "outputs": [],
      "source": []
    }
  ],
  "metadata": {
    "colab": {
      "provenance": []
    },
    "kernelspec": {
      "display_name": "Python 3",
      "name": "python3"
    },
    "language_info": {
      "codemirror_mode": {
        "name": "ipython",
        "version": 3
      },
      "file_extension": ".py",
      "mimetype": "text/x-python",
      "name": "python",
      "nbconvert_exporter": "python",
      "pygments_lexer": "ipython3",
      "version": "3.7.2"
    }
  },
  "nbformat": 4,
  "nbformat_minor": 0
}
